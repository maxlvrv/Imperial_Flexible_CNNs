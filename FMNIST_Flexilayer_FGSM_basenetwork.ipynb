{
 "cells": [
  {
   "cell_type": "code",
   "execution_count": 1,
   "metadata": {},
   "outputs": [
    {
     "name": "stderr",
     "output_type": "stream",
     "text": [
      "1.8%"
     ]
    },
    {
     "name": "stdout",
     "output_type": "stream",
     "text": [
      "Downloading http://fashion-mnist.s3-website.eu-central-1.amazonaws.com/train-images-idx3-ubyte.gz to ./data/FashionMNIST/raw/train-images-idx3-ubyte.gz\n"
     ]
    },
    {
     "name": "stderr",
     "output_type": "stream",
     "text": [
      "93.0%IOPub message rate exceeded.\n",
      "The notebook server will temporarily stop sending output\n",
      "to the client in order to avoid crashing it.\n",
      "To change this limit, set the config variable\n",
      "`--NotebookApp.iopub_msg_rate_limit`.\n",
      "\n",
      "Current values:\n",
      "NotebookApp.iopub_msg_rate_limit=1000.0 (msgs/sec)\n",
      "NotebookApp.rate_limit_window=3.0 (secs)\n",
      "\n",
      "159.1%"
     ]
    },
    {
     "name": "stdout",
     "output_type": "stream",
     "text": [
      "Extracting ./data/FashionMNIST/raw/t10k-images-idx3-ubyte.gz to ./data/FashionMNIST/raw\n",
      "Downloading http://fashion-mnist.s3-website.eu-central-1.amazonaws.com/t10k-labels-idx1-ubyte.gz to ./data/FashionMNIST/raw/t10k-labels-idx1-ubyte.gz\n",
      "Extracting ./data/FashionMNIST/raw/t10k-labels-idx1-ubyte.gz to ./data/FashionMNIST/raw\n",
      "Processing...\n",
      "Done!\n"
     ]
    }
   ],
   "source": [
    "\"\"\"\n",
    "\n",
    "Date: 18 March 2020\n",
    "\n",
    "Python version:      3.7\n",
    "Tensorboard version: 1.14.0\n",
    "PyTorch version:     1.2.0\n",
    "\n",
    "@author: Maksim Lavrov\n",
    "\n",
    "Only one flexible layer with 12 output filters and with avgpool instead of maxpool in the flexilayer\n",
    "But without the usual 2x2 maxpool following\n",
    "\n",
    "Visualising a single threshold layer pixel to see if assymptotes\n",
    "\n",
    "\"\"\"\n",
    "\n",
    "# imports\n",
    "import matplotlib.pyplot as plt\n",
    "from mpl_toolkits.axes_grid1 import make_axes_locatable\n",
    "import numpy as np\n",
    "\n",
    "import torch\n",
    "import torchvision\n",
    "import torchvision.transforms as transforms\n",
    "\n",
    "import torch.nn as nn\n",
    "import torch.nn.functional as F\n",
    "import torch.optim as optim\n",
    "\n",
    "from torch.autograd import Variable\n",
    "\n",
    "# transforms\n",
    "transform = transforms.Compose(\n",
    "    [transforms.ToTensor(),\n",
    "    transforms.Normalize((0.5,), (0.5,))\n",
    "    ])\n",
    "\n",
    "# datasets\n",
    "trainset = torchvision.datasets.FashionMNIST('./data',\n",
    "    download=True,\n",
    "    train=True,\n",
    "    transform=transform)\n",
    "testset = torchvision.datasets.FashionMNIST('./data',\n",
    "    download=True,\n",
    "    train=False,\n",
    "    transform=transform)\n",
    "\n",
    "#create a dataset subset to reduce training time\n",
    "\n",
    "sampler_train = list(range(0, len(trainset), 500))\n",
    "sampler_test = list(range(0, len(testset), 500))\n",
    "trainset_samp = torch.utils.data.Subset(trainset, sampler_train)\n",
    "testset_samp = torch.utils.data.Subset(testset, sampler_test)\n",
    "\n",
    "#set size of batch and learning rate\n",
    "batch_size=100\n",
    "lr=0.001\n",
    "\n",
    "# dataloaders\n",
    "trainloader = torch.utils.data.DataLoader(trainset, batch_size=batch_size,\n",
    "                                        shuffle=True, num_workers=4)\n",
    "\n",
    "\n",
    "testloader = torch.utils.data.DataLoader(testset, batch_size=batch_size,\n",
    "                                        shuffle=False, num_workers=4)\n",
    "\n",
    "# constant for classes\n",
    "classes = ('T-shirt/top', 'Trouser', 'Pullover', 'Dress', 'Coat',\n",
    "        'Sandal', 'Shirt', 'Sneaker', 'Bag', 'Ankle Boot')"
   ]
  },
  {
   "cell_type": "code",
   "execution_count": 2,
   "metadata": {},
   "outputs": [],
   "source": [
    "#Xavier threshold initialization\n",
    "\n",
    "def init_weights(m):\n",
    "    if type(m) == nn.Conv2d:\n",
    "        torch.nn.init.xavier_uniform(m.threshold1)\n",
    "        m.bias.data.fill_(0.01)"
   ]
  },
  {
   "cell_type": "code",
   "execution_count": 3,
   "metadata": {},
   "outputs": [],
   "source": [
    "class Flex(nn.Module):\n",
    "    def __init__(self):\n",
    "        super().__init__()\n",
    "        self.threshold1 = nn.Parameter(torch.zeros(1))\n",
    "        \n",
    "        self.memorized = self.threshold1.clone()\n",
    "        self.thresh_mean = []\n",
    "            \n",
    "    def forward(self, t_conv, t_max, t):\n",
    "        \n",
    "        m = nn.Sigmoid()\n",
    "        cond = torch.sub(self.threshold1.cuda(), t_max.cuda()) # THRESHOLD - MAX (broadcasting here)\n",
    "        t_2_2 = m(cond*50)*t_max # if condition is true - do MAX => THRESHOLD HIGHER\n",
    "        t_1_1 = m(cond*(-50))*t_conv #  if condition is false - do CONV => THRESHOLD LOWER\n",
    "        \n",
    "        #t_1_1 = torch.mul(F.relu(t_conv), (1-self.threshold1.cuda()))\n",
    "        #t_2_2 = torch.mul(F.relu(t_max), (self.threshold1.cuda()))\n",
    "        \n",
    "        t_out = torch.add(t_1_1, t_2_2) # compute the output\n",
    "        \n",
    "        return t_out"
   ]
  },
  {
   "cell_type": "code",
   "execution_count": 4,
   "metadata": {},
   "outputs": [],
   "source": [
    "class Net(nn.Module):\n",
    "    def __init__(self):\n",
    "        super().__init__()\n",
    "        self.pool = nn.MaxPool2d(kernel_size=5, stride=1, padding = 0)\n",
    "        self.conv = nn.Conv2d(in_channels=1, out_channels=12, kernel_size=5)\n",
    "        self.flex1 = Flex()\n",
    "\n",
    "        \n",
    "        self.fc1 = nn.Linear(in_features=4*12*12*12, out_features=120)\n",
    "        self.fc2 = nn.Linear(in_features=120, out_features=60)\n",
    "        self.out = nn.Linear(in_features=60, out_features=10) # number of classes\n",
    "\n",
    "    def forward(self, t):\n",
    "        \n",
    "        # (2) Flexible layer\n",
    "        t = self.conv(t)\n",
    "        #t_max = self.pool(t)\n",
    "        \n",
    "        #t = self.flex1(t_conv.cuda(), t_max.cuda(), t.cuda())\n",
    "        \n",
    "        t = F.relu(t)\n",
    "        \n",
    "        # (4) hidden linear layer\n",
    "        t = F.relu(self.fc1(t.reshape(-1, 4 * 12 * 12 * 12)))\n",
    "        \n",
    "        # (5) hidden linear layer\n",
    "        t = F.relu(self.fc2(t))\n",
    "        \n",
    "        # (6) output layer\n",
    "        t = self.out(t)\n",
    "        \n",
    "        return t\n",
    "\n",
    "net = Net()\n",
    "\n",
    "\n",
    "if torch.cuda.is_available():\n",
    "  net.cuda()"
   ]
  },
  {
   "cell_type": "code",
   "execution_count": 5,
   "metadata": {},
   "outputs": [],
   "source": [
    "criterion = nn.CrossEntropyLoss()\n",
    "lr = 0.001\n",
    "optimizer = torch.optim.SGD(net.parameters(),lr = 0.001,momentum = 0.9,weight_decay = 0.006)\n",
    "#optimizer = torch.optim.SGD([{'params':[net.flex1.threshold1], 'lr':lr}],lr = 0.001,momentum = 0.9,weight_decay = 0.006)\n",
    "schedule = torch.optim.lr_scheduler.StepLR(optimizer,step_size=20,gamma = 0.7)\n"
   ]
  },
  {
   "cell_type": "code",
   "execution_count": 6,
   "metadata": {},
   "outputs": [],
   "source": [
    "# helper functions\n",
    "\n",
    "# helper function to show an image\n",
    "# (used in the `plot_classes_preds` function below)\n",
    "def matplotlib_imshow(img, one_channel=False):\n",
    "    if one_channel:\n",
    "        img = img.mean(dim=0)\n",
    "    img = img / 2 + 0.5     # unnormalize\n",
    "    npimg = img.numpy()\n",
    "    if one_channel:\n",
    "        plt.imshow(npimg, cmap=\"Greys\")\n",
    "    else:\n",
    "        plt.imshow(np.transpose(npimg, (1, 2, 0)))\n",
    "\n",
    "def images_to_probs(net, images):\n",
    "    '''\n",
    "    Generates predictions and corresponding probabilities from a trained\n",
    "    network and a list of images\n",
    "    '''\n",
    "    output = net(images)\n",
    "    # convert output probabilities to predicted class\n",
    "    _, preds_tensor = torch.max(output, 1)\n",
    "    preds = np.squeeze(preds_tensor.numpy())\n",
    "    return preds, [F.softmax(el, dim=0)[i].item() for i, el in zip(preds, output)]\n",
    "\n",
    "\n",
    "def plot_classes_preds(net, images, labels):\n",
    "    '''\n",
    "    Generates matplotlib Figure using a trained network, along with images\n",
    "    and labels from a batch, that shows the network's top prediction along\n",
    "    with its probability, alongside the actual label, coloring this\n",
    "    information based on whether the prediction was correct or not.\n",
    "    Uses the \"images_to_probs\" function.\n",
    "    '''\n",
    "    preds, probs = images_to_probs(net, images)\n",
    "    # plot the images in the batch, along with predicted and true labels\n",
    "    fig = plt.figure(figsize=(12, 48))\n",
    "    for idx in np.arange(4):\n",
    "        ax = fig.add_subplot(1, 4, idx+1, xticks=[], yticks=[])\n",
    "        matplotlib_imshow(images[idx], one_channel=True)\n",
    "        ax.set_title(\"{0}, {1:.1f}%\\n(label: {2})\".format(\n",
    "            classes[preds[idx]],\n",
    "            probs[idx] * 100.0,\n",
    "            classes[labels[idx]]),\n",
    "                    color=(\"green\" if preds[idx]==labels[idx].item() else \"red\"))\n",
    "    return fig\n",
    "\n",
    "def get_num_correct(preds, labels):\n",
    "    return preds.argmax(dim=1).eq(labels).sum().item()"
   ]
  },
  {
   "cell_type": "code",
   "execution_count": 7,
   "metadata": {},
   "outputs": [
    {
     "data": {
      "image/png": "[encoded data removed]",
      "text/plain": [
       "<Figure size 432x288 with 1 Axes>"
      ]
     },
     "metadata": {
      "needs_background": "light"
     },
     "output_type": "display_data"
    }
   ],
   "source": [
    "# get some random training images\n",
    "dataiter = iter(trainloader)\n",
    "images, labels = dataiter.next()\n",
    "\n",
    "# create grid of images\n",
    "img_grid = torchvision.utils.make_grid(images)\n",
    "\n",
    "# show images\n",
    "matplotlib_imshow(img_grid, one_channel=True)\n",
    "\n",
    "# write to tensorboard\n",
    "#writer.add_image('four_fake_images', img_grid)"
   ]
  },
  {
   "cell_type": "code",
   "execution_count": 8,
   "metadata": {},
   "outputs": [
    {
     "data": {
      "text/plain": [
       "tensor(-0.4004)"
      ]
     },
     "execution_count": 8,
     "metadata": {},
     "output_type": "execute_result"
    }
   ],
   "source": [
    "images.mean()"
   ]
  },
  {
   "cell_type": "code",
   "execution_count": 9,
   "metadata": {},
   "outputs": [
    {
     "data": {
      "text/plain": [
       "<Figure size 432x288 with 0 Axes>"
      ]
     },
     "metadata": {},
     "output_type": "display_data"
    },
    {
     "data": {
      "image/png": "[encoded data removed]",
      "text/plain": [
       "<Figure size 720x720 with 24 Axes>"
      ]
     },
     "metadata": {
      "needs_background": "light"
     },
     "output_type": "display_data"
    }
   ],
   "source": [
    "# plot the flex weights before training\n",
    "\n",
    "fig = plt.figure()\n",
    "plt.figure(figsize=(10,10))\n",
    "plt.suptitle('Flexilayer weights before training', fontsize = 16)\n",
    "for idx, filt  in enumerate(net.conv.cpu().weight.detach().numpy()[:,0,:,:]):\n",
    "    plt.subplot(3,4, idx + 1)\n",
    "    plt.imshow(net.conv.cpu().weight.detach().numpy()[idx,0,:,:], cmap=\"gray\")\n",
    "\n",
    "    plt.colorbar()\n",
    "fig.show()"
   ]
  },
  {
   "cell_type": "code",
   "execution_count": 10,
   "metadata": {},
   "outputs": [
    {
     "name": "stdout",
     "output_type": "stream",
     "text": [
      "epoch: 0 loss: 65529.081961512566\n",
      "epoch: 1 loss: 33321.64993286133\n",
      "epoch: 2 loss: 29336.40275299549\n",
      "epoch: 3 loss: 27251.63579583168\n",
      "epoch: 4 loss: 25614.555808901787\n",
      "epoch: 5 loss: 24431.05836957693\n",
      "epoch: 6 loss: 23650.54311156273\n",
      "epoch: 7 loss: 22747.25457727909\n",
      "epoch: 8 loss: 22209.532131254673\n",
      "epoch: 9 loss: 21662.61404156685\n",
      "epoch: 10 loss: 21182.830123603344\n",
      "epoch: 11 loss: 20777.04153507948\n",
      "epoch: 12 loss: 20454.090896248817\n",
      "epoch: 13 loss: 20127.82228142023\n",
      "epoch: 14 loss: 19766.527622938156\n",
      "epoch: 15 loss: 19448.738303780556\n",
      "epoch: 16 loss: 19189.793661236763\n",
      "epoch: 17 loss: 18859.295690059662\n",
      "epoch: 18 loss: 18583.172385394573\n",
      "epoch: 19 loss: 18545.831514894962\n",
      "epoch: 20 loss: 18124.43396896124\n",
      "epoch: 21 loss: 18088.37828785181\n",
      "epoch: 22 loss: 17752.24152803421\n",
      "epoch: 23 loss: 17667.75257885456\n",
      "epoch: 24 loss: 17442.576901614666\n",
      "epoch: 25 loss: 17196.821339428425\n",
      "epoch: 26 loss: 17074.598259478807\n",
      "epoch: 27 loss: 17056.634214520454\n",
      "epoch: 28 loss: 16734.99497398734\n",
      "epoch: 29 loss: 16685.93427091837\n",
      "Finished Training\n"
     ]
    },
    {
     "data": {
      "text/plain": [
       "<Figure size 864x864 with 0 Axes>"
      ]
     },
     "metadata": {},
     "output_type": "display_data"
    }
   ],
   "source": [
    "running_loss = 0.0\n",
    "total_loss_plt = []\n",
    "plt.figure(figsize=(12,12))\n",
    "\n",
    "net.cuda()\n",
    "for epoch in range(30):  # loop over the dataset multiple times\n",
    "    \n",
    "    total_loss = 0\n",
    "    total_correct = 0\n",
    "    \n",
    "    nsamples = 1000\n",
    "\n",
    "    for i, data in enumerate(trainloader, 0):\n",
    "        \n",
    "        # get the inputs; data is a list of [inputs, labels]\n",
    "        inputs, labels = data\n",
    "        \n",
    "        preds = net(inputs.cuda()) # Pass batch\n",
    "\n",
    "        # zero the parameter gradients\n",
    "        optimizer.zero_grad()\n",
    "        \n",
    "        # forward + backward + optimize\n",
    "        loss = criterion(preds.cuda(), labels.cuda()) \n",
    "        loss.backward()\n",
    "        optimizer.step()      \n",
    "        \n",
    "        total_loss += loss.item() * batch_size\n",
    "        total_correct += get_num_correct(preds.cuda(), labels.cuda())\n",
    "            \n",
    "                      \n",
    "                      \n",
    "    total_loss_plt.append(total_loss)\n",
    "    \n",
    "    print(\"epoch:\", epoch, \"loss:\", total_loss)\n",
    "        \n",
    "print('Finished Training')"
   ]
  },
  {
   "cell_type": "code",
   "execution_count": 11,
   "metadata": {},
   "outputs": [
    {
     "name": "stdout",
     "output_type": "stream",
     "text": [
      "Test accuracy: 88 %\n",
      "88.35\n",
      "Accuracy of T-shirt/top : 88 %\n",
      "Accuracy of Trouser : 98 %\n",
      "Accuracy of Pullover : 79 %\n",
      "Accuracy of Dress : 94 %\n",
      "Accuracy of  Coat : 88 %\n",
      "Accuracy of Sandal : 87 %\n",
      "Accuracy of Shirt : 61 %\n",
      "Accuracy of Sneaker : 90 %\n",
      "Accuracy of   Bag : 98 %\n",
      "Accuracy of Ankle Boot : 100 %\n"
     ]
    }
   ],
   "source": [
    "# ======================== Function to get the test accuracy ===============================================================================\n",
    "def test():\n",
    "  correct = 0\n",
    "  total = 0\n",
    "  net.train(False)\n",
    "  with torch.no_grad():\n",
    "    for i,(images,labels)in enumerate(testloader):\n",
    "      if torch.cuda.is_available():\n",
    "        images = images.cuda()\n",
    "        labels = labels.cuda()\n",
    "      outputs = net(Variable(images))\n",
    "      labels = Variable(labels)\n",
    "      _,predicted = outputs.max(1)\n",
    "      total += labels.size(0)\n",
    "      correct += (predicted.eq(labels)).sum().item()\n",
    "    print('Test accuracy: %d %%' % (\n",
    "  100 * correct / total))\n",
    "  return 100*(correct/total)\n",
    "\n",
    "\n",
    "#======================================= Testing ===================================================================================================\n",
    "test_acc = test() # Test error\n",
    "print(test_acc)\n",
    "\n",
    "# Per class accuracy\n",
    "class_correct = list(0. for i in range(10)) # Individual class error\n",
    "class_total = list(0. for i in range(10))\n",
    "with torch.no_grad():\n",
    "    for data in testloader:\n",
    "        images, labels = data\n",
    "        if torch.cuda.is_available():\n",
    "          images = images.cuda()\n",
    "          labels = labels.cuda()\n",
    "        images = Variable(images)\n",
    "        labels = Variable(labels)\n",
    "        outputs = net(images)\n",
    "        _, predicted = torch.max(outputs, 1)\n",
    "        c = (predicted == labels).squeeze()\n",
    "        for i in range(4):\n",
    "            label = labels[i]\n",
    "            class_correct[label] += c[i].item()\n",
    "            class_total[label] += 1\n",
    "\n",
    "for i in range(10):\n",
    "    print('Accuracy of %5s : %2d %%' % (\n",
    "        classes[i], 100 * class_correct[i] / class_total[i]))"
   ]
  },
  {
   "cell_type": "code",
   "execution_count": 12,
   "metadata": {},
   "outputs": [
    {
     "data": {
      "image/png": "[encoded data removed]",
      "text/plain": [
       "<Figure size 432x288 with 1 Axes>"
      ]
     },
     "metadata": {
      "needs_background": "light"
     },
     "output_type": "display_data"
    }
   ],
   "source": [
    "plt.plot(total_loss_plt)\n",
    "plt.ylabel('Loss')\n",
    "plt.xlabel('Epochs')\n",
    "plt.show()"
   ]
  },
  {
   "cell_type": "markdown",
   "metadata": {},
   "source": [
    "path = \"./models/FMNIST_FlexiLayer-avgpool-nomaxpool_20201803.pt\"\n",
    "torch.save(net.state_dict(), path)"
   ]
  },
  {
   "cell_type": "code",
   "execution_count": 13,
   "metadata": {},
   "outputs": [
    {
     "data": {
      "image/png": "[encoded data removed]",
      "text/plain": [
       "<Figure size 432x288 with 1 Axes>"
      ]
     },
     "metadata": {
      "needs_background": "light"
     },
     "output_type": "display_data"
    },
    {
     "data": {
      "text/plain": [
       "<Figure size 432x288 with 0 Axes>"
      ]
     },
     "metadata": {},
     "output_type": "display_data"
    },
    {
     "data": {
      "image/png": "[encoded data removed]",
      "text/plain": [
       "<Figure size 720x720 with 12 Axes>"
      ]
     },
     "metadata": {
      "needs_background": "light"
     },
     "output_type": "display_data"
    }
   ],
   "source": [
    "def normalize_output(img):\n",
    "    img = img - img.min()\n",
    "    img = img / img.max()\n",
    "    return img\n",
    "\n",
    "# Visualize feature maps\n",
    "activation = {}\n",
    "def get_activation(name):\n",
    "    def hook(model, input, output):\n",
    "        activation[name] = output.detach()\n",
    "    return hook\n",
    "\n",
    "net.conv.cuda().register_forward_hook(get_activation('conv1'))\n",
    "data, _ = testset[0]\n",
    "data.unsqueeze_(0)\n",
    "output = net(data.cuda())\n",
    "fig = plt.figure()\n",
    "matplotlib_imshow(data[0], one_channel=True)\n",
    "\n",
    "act = activation['conv1'].squeeze()\n",
    "#fig, axarr = plt.subplots(act.size(0))\n",
    "fig = plt.figure()\n",
    "fig = plt.figure(figsize=(10,10))\n",
    "for idx in range(act.size(0)):\n",
    "    im = plt.subplot(3,4, idx + 1)\n",
    "    plt.imshow(act.cpu()[idx,:,:], cmap=\"gray\")\n",
    "    #axarr[idx].imshow(act[idx], cmap=\"gray\")"
   ]
  },
  {
   "cell_type": "code",
   "execution_count": 14,
   "metadata": {},
   "outputs": [
    {
     "data": {
      "text/plain": [
       "Net(\n",
       "  (pool): MaxPool2d(kernel_size=5, stride=1, padding=0, dilation=1, ceil_mode=False)\n",
       "  (conv): Conv2d(1, 12, kernel_size=(5, 5), stride=(1, 1))\n",
       "  (flex1): Flex()\n",
       "  (fc1): Linear(in_features=6912, out_features=120, bias=True)\n",
       "  (fc2): Linear(in_features=120, out_features=60, bias=True)\n",
       "  (out): Linear(in_features=60, out_features=10, bias=True)\n",
       ")"
      ]
     },
     "execution_count": 14,
     "metadata": {},
     "output_type": "execute_result"
    }
   ],
   "source": [
    "net"
   ]
  },
  {
   "cell_type": "code",
   "execution_count": 15,
   "metadata": {},
   "outputs": [
    {
     "name": "stdout",
     "output_type": "stream",
     "text": [
      "conv.weight\n",
      "conv.bias\n",
      "flex1.threshold1\n",
      "fc1.weight\n",
      "fc1.bias\n",
      "fc2.weight\n",
      "fc2.bias\n",
      "out.weight\n",
      "out.bias\n"
     ]
    }
   ],
   "source": [
    "for name, param in net.named_parameters():\n",
    "    if param.requires_grad:\n",
    "        print (name)"
   ]
  },
  {
   "cell_type": "code",
   "execution_count": 16,
   "metadata": {},
   "outputs": [
    {
     "name": "stdout",
     "output_type": "stream",
     "text": [
      "conv.weight\n",
      "here\n",
      "conv.bias\n",
      "here\n",
      "flex1.threshold1\n",
      "here\n",
      "fc1.weight\n",
      "here\n",
      "fc1.bias\n",
      "here\n",
      "fc2.weight\n",
      "here\n",
      "fc2.bias\n",
      "here\n",
      "out.weight\n",
      "here\n",
      "out.bias\n"
     ]
    }
   ],
   "source": [
    "l2_reg = None\n",
    "for name, param in net.named_parameters():\n",
    "        if l2_reg is None:\n",
    "            l2_reg = param.norm(2)\n",
    "            print(name)\n",
    "        else:\n",
    "            print('here')\n",
    "            print(name)"
   ]
  },
  {
   "cell_type": "code",
   "execution_count": 17,
   "metadata": {},
   "outputs": [
    {
     "name": "stdout",
     "output_type": "stream",
     "text": [
      "CUDA Available:  True\n",
      "Epsilon: 0\tTest Accuracy = 8748 / 100 = 87.48\n",
      "Epsilon: 0.05\tTest Accuracy = 6730 / 100 = 67.3\n",
      "Epsilon: 0.1\tTest Accuracy = 4107 / 100 = 41.07\n",
      "Epsilon: 0.15\tTest Accuracy = 2424 / 100 = 24.24\n",
      "Epsilon: 0.2\tTest Accuracy = 1356 / 100 = 13.56\n",
      "Epsilon: 0.25\tTest Accuracy = 709 / 100 = 7.09\n",
      "Epsilon: 0.3\tTest Accuracy = 337 / 100 = 3.37\n"
     ]
    }
   ],
   "source": [
    "epsilons = [0, .05, .1, .15, .2, .25, .3]\n",
    "\n",
    "'''  \n",
    "The image lies between [0,1] but since I have trained the whole network on normalized input, Therefore\n",
    "the min_val = -2.117 and max_val = 2.64 and not {0,1}\n",
    "'''\n",
    "\n",
    "# FGSM attack code\n",
    "def fgsm_attack(image, epsilon, data_grad):\n",
    "    # Collect the element-wise sign of the data gradient\n",
    "    sign_data_grad = data_grad.sign()\n",
    "    # Create the perturbed image by adjusting each pixel of the input image\n",
    "    perturbed_image = image + epsilon*sign_data_grad\n",
    "    # Adding clipping to maintain [0,1] range\n",
    "    perturbed_image = torch.clamp(perturbed_image, -2.117, 2.64)\n",
    "    # Return the perturbed image\n",
    "    return perturbed_image\n",
    "\n",
    "def test( model, device, test_loader, epsilon ):\n",
    "\n",
    "    # Accuracy counter\n",
    "    correct = 0\n",
    "    adv_examples = []\n",
    "\n",
    "    # Loop over all examples in test set\n",
    "    for data, target in test_loader:\n",
    "\n",
    "        # Send the data and label to the device\n",
    "        data, target = data.to(device), target.to(device)\n",
    "\n",
    "        # Set requires_grad attribute of tensor. Important for Attack\n",
    "        data.requires_grad = True\n",
    "\n",
    "        # Forward pass the data through the model\n",
    "        output = model(data)\n",
    "        init_pred = output.max(1, keepdim=True)[1] # get the index of the max log-probability\n",
    "\n",
    "        # If the initial prediction is wrong, dont bother attacking, just move on\n",
    "        #if init_pred.item() != target.item():\n",
    "        #    continue\n",
    "\n",
    "        # Calculate the loss\n",
    "        loss = F.nll_loss(output, target)\n",
    "\n",
    "        # Zero all existing gradients\n",
    "        model.zero_grad()\n",
    "\n",
    "        # Calculate gradients of model in backward pass\n",
    "        loss.backward()\n",
    "\n",
    "        # Collect datagrad\n",
    "        data_grad = data.grad.data\n",
    "\n",
    "        # Call FGSM Attack\n",
    "        perturbed_data = fgsm_attack(data, epsilon, data_grad)\n",
    "\n",
    "        # Re-classify the perturbed image\n",
    "        output = model(perturbed_data)\n",
    "\n",
    "        # Check for success\n",
    "        final_pred = output.max(1, keepdim=True)[1] # get the index of the max log-probability\n",
    "        for i in range(0,len(final_pred)-1):\n",
    "            if final_pred[i].sub(target[i]) == 0:\n",
    "                correct += 1\n",
    "                # Special case for saving 0 epsilon examples\n",
    "                if (epsilon == 0) and (len(adv_examples) < 5):\n",
    "                    adv_ex = perturbed_data.squeeze().detach().cpu().numpy()\n",
    "                    adv_examples.append( (init_pred[i], final_pred[i], adv_ex) )\n",
    "            else:\n",
    "                # Save some adv examples for visualization later\n",
    "                if len(adv_examples) < 5:\n",
    "                    adv_ex = perturbed_data.squeeze().detach().cpu().numpy()\n",
    "                    adv_examples.append( (init_pred[i], final_pred[i], adv_ex) )\n",
    "\n",
    "    # Calculate final accuracy for this epsilon\n",
    "    final_acc = correct/float(len(test_loader))\n",
    "    print(\"Epsilon: {}\\tTest Accuracy = {} / {} = {}\".format(epsilon, correct, len(test_loader), final_acc))\n",
    "\n",
    "    # Return the accuracy and an adversarial example\n",
    "    return final_acc, adv_examples\n",
    "\n",
    "accuracies2 = []\n",
    "examples2 = []\n",
    "\n",
    "# Define what device we are using\n",
    "print(\"CUDA Available: \",torch.cuda.is_available())\n",
    "use_cuda=True\n",
    "device = torch.device(\"cuda\" if (use_cuda and torch.cuda.is_available()) else \"cpu\")\n",
    "\n",
    "# Run test for each epsilon\n",
    "for eps in epsilons:\n",
    "    acc, ex = test(net, device, testloader, eps)\n",
    "    accuracies2.append(acc)\n",
    "    examples2.append(ex)"
   ]
  },
  {
   "cell_type": "code",
   "execution_count": 18,
   "metadata": {},
   "outputs": [
    {
     "name": "stdout",
     "output_type": "stream",
     "text": [
      "Accuracy of the model w/0 adverserial attack on test images is : 88.35 %\n",
      "Accuracy of the model with adverserial attack on test images is : 33.24 %\n",
      "Number of misclassified examples(as compared to clean predictions): 5574/10000\n",
      "True Label:  Coat   Predicted Label: Coat   Adverserial Label: Pullover\n",
      "True Label:  Ankle Boot   Predicted Label: Ankle Boot   Adverserial Label: Sneaker\n"
     ]
    },
    {
     "data": {
      "image/png": "[encoded data removed]",
      "text/plain": [
       "<Figure size 432x288 with 2 Axes>"
      ]
     },
     "metadata": {},
     "output_type": "display_data"
    }
   ],
   "source": [
    "model = net\n",
    "# ===============================================  Attack methods ===============================================================================\n",
    "\n",
    "# FAST GRADIENT SIGN METHOD (FGSM)\n",
    "def FGSM(test_loader,epsilon = 0.1,min_val = -1,max_val = 1):\n",
    "  correct = 0                   # Fast gradient sign method\n",
    "  adv_correct = 0\n",
    "  misclassified = 0\n",
    "  total = 0\n",
    "  adv_noise =0 \n",
    "  adverserial_images = []\n",
    "  y_preds = []\n",
    "  y_preds_adv = []\n",
    "  test_images = []\n",
    "  test_label = []\n",
    "  \n",
    "  for i, (images,labels) in enumerate(test_loader):\n",
    "    if torch.cuda.is_available():\n",
    "      images = images.cuda()\n",
    "      labels = labels.cuda()\n",
    "    images = Variable(images,requires_grad = True)\n",
    "    labels = Variable(labels)\n",
    "    \n",
    "    outputs = model(images)\n",
    "    loss =criterion(outputs,labels)\n",
    "\n",
    "    model.zero_grad()\n",
    "    if images.grad is not None:\n",
    "      images.grad.data.fill_(0)\n",
    "    loss.backward()\n",
    "    \n",
    "    grad = torch.sign(images.grad.data) # Take the sign of the gradient.\n",
    "    images_adv = torch.clamp(images.data + epsilon*grad,min_val,max_val)     # x_adv = x + epsilon*grad\n",
    "    \n",
    "    adv_output = model(Variable(images_adv)) # output by the model after adding adverserial noise\n",
    "    \n",
    "    _,predicted = torch.max(outputs.data,1)      # Prediction on the clean image\n",
    "    _,adv_predicted = torch.max(adv_output.data,1) # Prediction on the image after adding adverserial noise\n",
    "    \n",
    "    total += labels.size(0)\n",
    "    correct += (predicted == labels).sum().item()\n",
    "    adv_correct += (adv_predicted == labels).sum().item()\n",
    "    misclassified += (predicted != adv_predicted).sum().item()\n",
    "    \n",
    "    adverserial_images.extend((images_adv).cpu().data.numpy())\n",
    "    y_preds.extend(predicted.cpu().data.numpy())\n",
    "    y_preds_adv.extend(adv_predicted.cpu().data.numpy())\n",
    "    test_images.extend(images.cpu().data.numpy())\n",
    "    test_label.extend(labels.cpu().data.numpy())\n",
    "    \n",
    "    \n",
    "  np.save('adverserial_images.npy',adverserial_images)    # Save the adverserial labels, images\n",
    "  np.save('y_preds.npy',y_preds)\n",
    "  np.save('y_preds_adv.npy',y_preds_adv)\n",
    "  np.save('test_images.npy',test_images)\n",
    "  np.save('test_label.npy',test_label)\n",
    "  print('Accuracy of the model w/0 adverserial attack on test images is : {} %'.format(100*correct/total))\n",
    "  print('Accuracy of the model with adverserial attack on test images is : {} %'.format(100* adv_correct/total))\n",
    "  print('Number of misclassified examples(as compared to clean predictions): {}/{}'.format(misclassified,total))\n",
    "\n",
    "\n",
    "\n",
    "\n",
    "#  ITERATIVE - FGSM\n",
    "\n",
    "def i_FGSM(test_loader,iterations = 1,epsilon = 0.1,min_val = -1,max_val = 1):\n",
    "  correct = 0                # Iterative fast gradient sign method\n",
    "  adv_correct = 0\n",
    "  misclassified = 0\n",
    "  total = 0 \n",
    "  adverserial_images = []\n",
    "  y_preds = []\n",
    "  y_preds_adv = []\n",
    "  test_images = []\n",
    "  test_label = []\n",
    "  \n",
    "  for i, (images,labels) in enumerate(test_loader):\n",
    "    if torch.cuda.is_available():\n",
    "      images = images.cuda()\n",
    "      labels = labels.cuda()\n",
    "      output_clean = model(Variable(images))\n",
    "    images_adv = Variable(images.data,requires_grad = True)\n",
    "    # Apply the FGSM for T iterations\n",
    "    for j in range(iterations):  \n",
    "      if torch.cuda.is_available():\n",
    "        images_adv = images_adv.cuda()\n",
    "      outputs = model(images_adv)\n",
    "      loss = criterion(outputs,Variable(labels))\n",
    "      \n",
    "      model.zero_grad()\n",
    "      if images_adv.grad is not None:\n",
    "        images.adv.grad.data.fill_(0)\n",
    "      \n",
    "      loss.backward()\n",
    "      grad = torch.sign(images_adv.grad.data)   # Get the sign of the gradient\n",
    "      \n",
    "      images_adv = images_adv + (epsilon/iterations)*grad  # X_n+1 = X_n + (epsilon/T)*grad   T = no. of iterations\n",
    "       # Clip the image \n",
    "      images_adv = torch.where(images_adv > images + epsilon,images+epsilon,images_adv)\n",
    "      images_adv = torch.where(images_adv < images-epsilon,images-epsilon,images_adv)\n",
    "      images_adv = torch.clamp(images_adv,min_val,max_val)\n",
    "      images_adv = Variable(images_adv.data,requires_grad = True)\n",
    "      \n",
    "\n",
    "    adv_output = model(Variable(images_adv))\n",
    "    \n",
    "    _,predicted = torch.max(output_clean.data,1)    # Ouput of the clean image\n",
    "    _,adv_predicted = torch.max(adv_output.data,1) # Output of the image after adding adverserial noise\n",
    "    \n",
    "    total += labels.size(0)\n",
    "    correct += (predicted == labels).sum().item()\n",
    "    adv_correct += (adv_predicted == labels).sum().item()\n",
    "    misclassified += (predicted != adv_predicted).sum().item()\n",
    "    \n",
    "    adverserial_images.extend((images_adv).cpu().data.numpy())\n",
    "    y_preds.extend(predicted.cpu().data.numpy())\n",
    "    y_preds_adv.extend(adv_predicted.cpu().data.numpy())\n",
    "    test_images.extend(images.cpu().data.numpy())\n",
    "    test_label.extend(labels.cpu().data.numpy())\n",
    "    \n",
    "  np.save('adverserial_images.npy',adverserial_images)\n",
    "  np.save('y_preds.npy',y_preds)\n",
    "  np.save('y_preds_adv.npy',y_preds_adv)\n",
    "  np.save('test_images.npy',test_images)\n",
    "  np.save('test_label.npy',test_label)\n",
    "  print('Accuracy of the model w/0 adverserial attack on test images is : {} %'.format(100*correct/total))\n",
    "  print('Accuracy of the model with adverserial attack on test images is : {} %'.format(100* adv_correct/total))\n",
    "  print('Number of misclassified examples(as compared to clean predictions): {}/{}'.format(misclassified,total))\n",
    "\n",
    "\n",
    "# ========================================= Attack the model ============================================================================\n",
    "'''  \n",
    "The image lies between [0,1] but since I have trained the whole network on normalized input, Therefore the min_val = -2.117 and max_val = 2.64 and \n",
    "not {0,1}\n",
    "We unnormalize the images for visualisation.\n",
    "The values of epsilon has been chosen according to the normalized input\n",
    "'''\n",
    "#i_FGSM(testloader,iterations = 15,epsilon = 0.15,min_val = -2.117,max_val = 2.64) \n",
    "FGSM(testloader,epsilon = 0.1,min_val = -2.117,max_val = 2.64)\n",
    "\n",
    "# ============================== Visualisation ===================================================================================================\n",
    "adverserial_images = np.load('adverserial_images.npy')\n",
    "y_preds = np.load('y_preds.npy')\n",
    "y_preds_adv = np.load('y_preds_adv.npy')\n",
    "test_images = np.load('test_images.npy')\n",
    "test_label = np.load('test_label.npy')\n",
    "\n",
    "c = adverserial_images - test_images  # Verify whether the max diff between the image and adverserial image in epsilon or not\n",
    "c.max()\n",
    "\n",
    "mean = np.array([0.485, 0.456, 0.406])\n",
    "mean = mean[:,None,None]\n",
    "std = np.array([0.229, 0.224, 0.225])\n",
    "std = std[:,None,None]\n",
    "\n",
    "# Get index of  all the images where the attack is succesful\n",
    "attack = (y_preds != y_preds_adv)\n",
    "indexes = []\n",
    "for i in range(len(attack)):\n",
    "  if attack[i] == True:\n",
    "    indexes.append(i)\n",
    "\n",
    "indexes = np.array(indexes)\n",
    "\n",
    "\n",
    "# Plot the images \n",
    "plt_idx = 0\n",
    "while plt_idx < 2:\n",
    "    idx = np.random.choice(indexes)\n",
    "    img = test_images[idx]\n",
    "    adv_img = adverserial_images[idx]\n",
    "    img = img*std + mean\n",
    "    img = np.transpose(img,(1,2,0))\n",
    "    img = img.clip(0,1)\n",
    "   \n",
    "    adv_img = adv_img*std + mean\n",
    "    adv_img =np.transpose(adv_img,(1,2,0))\n",
    "    adv_img = adv_img.clip(0,1)\n",
    "    noise = adv_img - img\n",
    "    noise = np.absolute(10*noise)  # Noise is multiplied by 10 for visualisation purpose\n",
    "    noise = noise.clip(0,1)\n",
    "    \n",
    "    if y_preds[idx] != y_preds_adv[idx]:\n",
    "        disp_im = np.concatenate((img, adv_img,noise), axis=1)\n",
    "        ax = plt.subplot(1,2,plt_idx+1)\n",
    "#         ax.set_title(classes[test_label[idx]],classes[y_preds[idx]], classes[y_preds_adv[idx]] )\n",
    "        ax.set_title(\"pred: {}, adv:{}\".format(y_preds[idx], y_preds_adv[idx]))\n",
    "        plt.imshow(disp_im)\n",
    "        plt.xticks([])\n",
    "        plt.yticks([])\n",
    "        plt_idx += 1\n",
    "        print(\"True Label: \",classes[test_label[idx]],\" \",\"Predicted Label:\",classes[y_preds[idx]],\" \", \"Adverserial Label:\",classes[y_preds_adv[idx]])\n",
    "plt.show()"
   ]
  },
  {
   "cell_type": "code",
   "execution_count": 19,
   "metadata": {},
   "outputs": [],
   "source": [
    "f = np.divide(accuracies2, 100)"
   ]
  },
  {
   "cell_type": "code",
   "execution_count": 20,
   "metadata": {},
   "outputs": [
    {
     "data": {
      "text/plain": [
       "array([0.8748, 0.673 , 0.4107, 0.2424, 0.1356, 0.0709, 0.0337])"
      ]
     },
     "execution_count": 20,
     "metadata": {},
     "output_type": "execute_result"
    }
   ],
   "source": [
    "f"
   ]
  },
  {
   "cell_type": "code",
   "execution_count": 21,
   "metadata": {},
   "outputs": [
    {
     "data": {
      "text/plain": [
       "[87.48, 67.3, 41.07, 24.24, 13.56, 7.09, 3.37]"
      ]
     },
     "execution_count": 21,
     "metadata": {},
     "output_type": "execute_result"
    }
   ],
   "source": [
    "accuracies2"
   ]
  },
  {
   "cell_type": "code",
   "execution_count": null,
   "metadata": {},
   "outputs": [],
   "source": []
  }
 ],
 "metadata": {
  "kernelspec": {
   "display_name": "Python 3",
   "language": "python",
   "name": "python3"
  },
  "language_info": {
   "codemirror_mode": {
    "name": "ipython",
    "version": 3
   },
   "file_extension": ".py",
   "mimetype": "text/x-python",
   "name": "python",
   "nbconvert_exporter": "python",
   "pygments_lexer": "ipython3",
   "version": "3.7.7"
  }
 },
 "nbformat": 4,
 "nbformat_minor": 2
}
