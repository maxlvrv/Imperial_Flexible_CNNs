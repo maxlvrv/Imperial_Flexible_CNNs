{
 "cells": [
  {
   "cell_type": "code",
   "execution_count": 1,
   "metadata": {},
   "outputs": [],
   "source": [
    "\"\"\"\n",
    "\n",
    "Max-pool below/above T\n",
    "\n",
    "Date: 18 March 2020\n",
    "\n",
    "Python version:      3.7\n",
    "Tensorboard version: 1.14.0\n",
    "PyTorch version:     1.2.0\n",
    "\n",
    "@author: Maksim Lavrov\n",
    "\n",
    "Only one flexible layer with 12 output filters and with avgpool instead of maxpool in the flexilayer\n",
    "But without the usual 2x2 maxpool following\n",
    "\n",
    "Visualising a single threshold layer pixel to see if assymptotes\n",
    "\n",
    "\"\"\"\n",
    "\n",
    "# imports\n",
    "import matplotlib.pyplot as plt\n",
    "from mpl_toolkits.axes_grid1 import make_axes_locatable\n",
    "import numpy as np\n",
    "\n",
    "import torch\n",
    "import torchvision\n",
    "import torchvision.transforms as transforms\n",
    "\n",
    "import torch.nn as nn\n",
    "import torch.nn.functional as F\n",
    "import torch.optim as optim\n",
    "\n",
    "from torch.autograd import Variable\n",
    "\n",
    "# transforms\n",
    "transform = transforms.Compose(\n",
    "    [transforms.ToTensor()\n",
    "    #,transforms.Normalize((0.5,), (0.5,))\n",
    "    ])\n",
    "\n",
    "# datasets\n",
    "trainset = torchvision.datasets.FashionMNIST('../FlexibleCNNs/data',\n",
    "    download=True,\n",
    "    train=True,\n",
    "    transform=transform)\n",
    "testset = torchvision.datasets.FashionMNIST('../FlexibleCNNs/data',\n",
    "    download=True,\n",
    "    train=False,\n",
    "    transform=transform)\n",
    "\n",
    "#create a dataset subset to reduce training time\n",
    "\n",
    "#sampler_train = list(range(0, len(trainset), 500))\n",
    "#sampler_test = list(range(0, len(testset), 500))\n",
    "#trainset_samp = torch.utils.data.Subset(trainset, sampler_train)\n",
    "#testset_samp = torch.utils.data.Subset(testset, sampler_test)\n",
    "\n",
    "#set size of batch and learning rate\n",
    "batch_size=100\n",
    "lr=0.001\n",
    "\n",
    "threholds = [0.0, 0.1, 0.2, 0.3, 0.4, 0.5, 0.6, 0.7, 0.8, 0.9, 1.0]\n",
    "\n",
    "# dataloaders\n",
    "trainloader = torch.utils.data.DataLoader(trainset, batch_size=batch_size,\n",
    "                                        shuffle=True, num_workers=4)\n",
    "\n",
    "\n",
    "testloader = torch.utils.data.DataLoader(testset, batch_size=batch_size,\n",
    "                                        shuffle=False, num_workers=4)\n",
    "\n",
    "# constant for classes\n",
    "classes = ('T-shirt/top', 'Trouser', 'Pullover', 'Dress', 'Coat',\n",
    "        'Sandal', 'Shirt', 'Sneaker', 'Bag', 'Ankle Boot')"
   ]
  },
  {
   "cell_type": "code",
   "execution_count": 2,
   "metadata": {},
   "outputs": [],
   "source": [
    "#Xavier threshold initialization\n",
    "\n",
    "def init_weights(m):\n",
    "    if type(m) == nn.Conv2d:\n",
    "        torch.nn.init.xavier_uniform(m.threshold1)\n",
    "        m.bias.data.fill_(0.01)"
   ]
  },
  {
   "cell_type": "code",
   "execution_count": 3,
   "metadata": {},
   "outputs": [],
   "source": [
    "class Flex(nn.Module):\n",
    "    def __init__(self):\n",
    "        super().__init__()\n",
    "        self.threshold1 = Variable(torch.zeros(1))\n",
    "        \n",
    "        self.memorized = self.threshold1.clone()\n",
    "        self.thresh_mean = []\n",
    "            \n",
    "    def forward(self, t_conv, t_max, t):\n",
    "        \n",
    "        m = nn.Sigmoid()\n",
    "        cond = torch.sub(t_max.cuda(), self.threshold1) # THRESHOLD - MAX (broadcasting here)\n",
    "        #t_out = torch.where(self.threshold1 > t_max, t_max, t_conv)\n",
    "        t_2_2 = m(cond*50)*t_max.cuda() # if condition is true - do MAX => THRESHOLD HIGHER\n",
    "        t_1_1 = m(cond*(-50))*t_conv.cuda() #  if condition is false - do CONV => THRESHOLD LOWER\n",
    "        \n",
    "        #t_1_1 = torch.mul(F.relu(t_conv), (1-self.threshold1.cuda()))\n",
    "        #t_2_2 = torch.mul(F.relu(t_max), (self.threshold1.cuda()))\n",
    "        \n",
    "        t_out = torch.add(t_1_1, t_2_2) # compute the output\n",
    "        \n",
    "        return t_out"
   ]
  },
  {
   "cell_type": "code",
   "execution_count": 4,
   "metadata": {},
   "outputs": [
    {
     "name": "stdout",
     "output_type": "stream",
     "text": [
      "0.0\n"
     ]
    }
   ],
   "source": [
    "class Net(nn.Module):\n",
    "    def __init__(self):\n",
    "        super().__init__()\n",
    "        self.pool = nn.MaxPool2d(kernel_size=5, stride=1, padding = 0)\n",
    "        self.conv = nn.Conv2d(in_channels=1, out_channels=12, kernel_size=5)\n",
    "        self.flex1 = Flex()\n",
    "\n",
    "        \n",
    "        self.fc1 = nn.Linear(in_features=4*12*12*12, out_features=120)\n",
    "        self.fc2 = nn.Linear(in_features=120, out_features=60)\n",
    "        self.out = nn.Linear(in_features=60, out_features=10) # number of classes\n",
    "\n",
    "    def forward(self, t):\n",
    "        \n",
    "        # (2) Flexible layer\n",
    "        t_conv = self.conv(t.cuda())\n",
    "        t_max = self.pool(t.cuda())\n",
    "        \n",
    "        t = self.flex1(t_conv.cuda(), t_max.cuda(), t.cuda())\n",
    "        \n",
    "        t = F.relu(t)\n",
    "        \n",
    "        # (4) hidden linear layer\n",
    "        t = F.relu(self.fc1(t.reshape(-1, 4 * 12 * 12 * 12)))\n",
    "        \n",
    "        # (5) hidden linear layer\n",
    "        t = F.relu(self.fc2(t))\n",
    "        \n",
    "        # (6) output layer\n",
    "        t = self.out(t)\n",
    "        \n",
    "        return t\n",
    "\n",
    "net = Net()\n",
    "\n",
    "net.flex1.threshold1 = 0.1  \n",
    "\n",
    "\n",
    "if torch.cuda.is_available():\n",
    "  net.cuda()\n",
    "\n",
    "memorized = net.flex1.memorized.clone()\n",
    "#before training\n",
    "print(memorized.item())"
   ]
  },
  {
   "cell_type": "code",
   "execution_count": 5,
   "metadata": {},
   "outputs": [],
   "source": [
    "criterion = nn.CrossEntropyLoss()\n",
    "lr = 0.001\n",
    "#optimizer_flex = torch.optim.Adam([{'params':[net.flex1.threshold1], 'lr':lr*2}], lr=lr*2)\n",
    "optimizer = torch.optim.SGD(net.parameters(),lr = 0.001,momentum = 0.9)\n",
    "#optimizer = torch.optim.SGD([{'params':[net.flex1.threshold1], 'lr':lr}],lr = 0.001,momentum = 0.9,weight_decay = 0.006)\n",
    "schedule = torch.optim.lr_scheduler.StepLR(optimizer,step_size=20,gamma = 0.7)\n"
   ]
  },
  {
   "cell_type": "code",
   "execution_count": 6,
   "metadata": {},
   "outputs": [],
   "source": [
    "# helper functions\n",
    "\n",
    "# helper function to show an image\n",
    "# (used in the `plot_classes_preds` function below)\n",
    "def matplotlib_imshow(img, one_channel=False):\n",
    "    if one_channel:\n",
    "        img = img.mean(dim=0)\n",
    "    img = img / 2 + 0.5     # unnormalize\n",
    "    npimg = img.numpy()\n",
    "    if one_channel:\n",
    "        plt.imshow(npimg, cmap=\"Greys\")\n",
    "    else:\n",
    "        plt.imshow(np.transpose(npimg, (1, 2, 0)))\n",
    "\n",
    "def images_to_probs(net, images):\n",
    "    '''\n",
    "    Generates predictions and corresponding probabilities from a trained\n",
    "    network and a list of images\n",
    "    '''\n",
    "    output = net(images)\n",
    "    # convert output probabilities to predicted class\n",
    "    _, preds_tensor = torch.max(output, 1)\n",
    "    preds = np.squeeze(preds_tensor.numpy())\n",
    "    return preds, [F.softmax(el, dim=0)[i].item() for i, el in zip(preds, output)]\n",
    "\n",
    "\n",
    "def plot_classes_preds(net, images, labels):\n",
    "    '''\n",
    "    Generates matplotlib Figure using a trained network, along with images\n",
    "    and labels from a batch, that shows the network's top prediction along\n",
    "    with its probability, alongside the actual label, coloring this\n",
    "    information based on whether the prediction was correct or not.\n",
    "    Uses the \"images_to_probs\" function.\n",
    "    '''\n",
    "    preds, probs = images_to_probs(net, images)\n",
    "    # plot the images in the batch, along with predicted and true labels\n",
    "    fig = plt.figure(figsize=(12, 48))\n",
    "    for idx in np.arange(4):\n",
    "        ax = fig.add_subplot(1, 4, idx+1, xticks=[], yticks=[])\n",
    "        matplotlib_imshow(images[idx], one_channel=True)\n",
    "        ax.set_title(\"{0}, {1:.1f}%\\n(label: {2})\".format(\n",
    "            classes[preds[idx]],\n",
    "            probs[idx] * 100.0,\n",
    "            classes[labels[idx]]),\n",
    "                    color=(\"green\" if preds[idx]==labels[idx].item() else \"red\"))\n",
    "    return fig\n",
    "\n",
    "def get_num_correct(preds, labels):\n",
    "    return preds.argmax(dim=1).eq(labels).sum().item()"
   ]
  },
  {
   "cell_type": "code",
   "execution_count": 7,
   "metadata": {},
   "outputs": [
    {
     "data": {
      "image/png": "[encoded data removed]",
      "text/plain": [
       "<Figure size 432x288 with 1 Axes>"
      ]
     },
     "metadata": {
      "needs_background": "light"
     },
     "output_type": "display_data"
    }
   ],
   "source": [
    "# get some random training images\n",
    "dataiter = iter(trainloader)\n",
    "images, labels = dataiter.next()\n",
    "\n",
    "# create grid of images\n",
    "img_grid = torchvision.utils.make_grid(images)\n",
    "\n",
    "# show images\n",
    "matplotlib_imshow(img_grid, one_channel=True)\n",
    "\n",
    "# write to tensorboard\n",
    "#writer.add_image('four_fake_images', img_grid)"
   ]
  },
  {
   "cell_type": "code",
   "execution_count": 8,
   "metadata": {},
   "outputs": [
    {
     "data": {
      "text/plain": [
       "tensor(0.2950)"
      ]
     },
     "execution_count": 8,
     "metadata": {},
     "output_type": "execute_result"
    }
   ],
   "source": [
    "images.mean()"
   ]
  },
  {
   "cell_type": "code",
   "execution_count": 9,
   "metadata": {},
   "outputs": [
    {
     "data": {
      "text/plain": [
       "<Figure size 432x288 with 0 Axes>"
      ]
     },
     "metadata": {},
     "output_type": "display_data"
    },
    {
     "data": {
      "image/png": "[encoded data removed]",
      "text/plain": [
       "<Figure size 720x720 with 24 Axes>"
      ]
     },
     "metadata": {
      "needs_background": "light"
     },
     "output_type": "display_data"
    }
   ],
   "source": [
    "# plot the flex weights before training\n",
    "\n",
    "fig = plt.figure()\n",
    "plt.figure(figsize=(10,10))\n",
    "plt.suptitle('Flexilayer weights before training', fontsize = 16)\n",
    "for idx, filt  in enumerate(net.conv.cpu().weight.detach().numpy()[:,0,:,:]):\n",
    "    plt.subplot(3,4, idx + 1)\n",
    "    plt.imshow(net.conv.cpu().weight.detach().numpy()[idx,0,:,:], cmap=\"gray\")\n",
    "\n",
    "    plt.colorbar()\n",
    "fig.show()"
   ]
  },
  {
   "cell_type": "code",
   "execution_count": 10,
   "metadata": {},
   "outputs": [
    {
     "data": {
      "text/plain": [
       "Text(0.5, 0, 'Weights values')"
      ]
     },
     "execution_count": 10,
     "metadata": {},
     "output_type": "execute_result"
    },
    {
     "data": {
      "image/png": "[encoded data removed]",
      "text/plain": [
       "<Figure size 432x288 with 1 Axes>"
      ]
     },
     "metadata": {
      "needs_background": "light"
     },
     "output_type": "display_data"
    }
   ],
   "source": [
    "#Plot the new learned distribution\n",
    "\n",
    "w_hist = torch.histc(net.conv.cpu().weight)\n",
    "start = np.min(net.conv.cpu().weight.detach().numpy())\n",
    "end = np.max(net.conv.cpu().weight.detach().numpy())\n",
    "xhist = torch.linspace(start,end,100) # histogram x-axis\n",
    "plt.plot(xhist, w_hist.cpu().detach().numpy())\n",
    "plt.title('Flexilayer weights histrogram before training')\n",
    "plt.ylabel('Count')\n",
    "plt.xlabel('Weights values')"
   ]
  },
  {
   "cell_type": "code",
   "execution_count": 11,
   "metadata": {},
   "outputs": [],
   "source": [
    "# ======================== Function to get the test accuracy ===============================================================================\n",
    "def test():\n",
    "  correct = 0\n",
    "  total = 0\n",
    "  net.train(False)\n",
    "  with torch.no_grad():\n",
    "    for i,(images,labels)in enumerate(testloader):\n",
    "      if torch.cuda.is_available():\n",
    "        images = images.cuda()\n",
    "        labels = labels.cuda()\n",
    "      outputs = net(Variable(images.cuda()))\n",
    "      labels = Variable(labels.cuda())\n",
    "      _,predicted = outputs.max(1)\n",
    "      total += labels.size(0)\n",
    "      correct += (predicted.eq(labels)).sum().item()\n",
    "    print('Test accuracy: %d %%' % (\n",
    "  100 * correct / total))\n",
    "  return 100*(correct/total)\n",
    "\n"
   ]
  },
  {
   "cell_type": "code",
   "execution_count": 12,
   "metadata": {},
   "outputs": [
    {
     "name": "stdout",
     "output_type": "stream",
     "text": [
      "epoch: 0 loss: 69047.25260734558 threshold 0.1\n",
      "epoch: 1 loss: 46438.33681344986 threshold 0.1\n",
      "epoch: 2 loss: 41440.77694416046 threshold 0.1\n",
      "epoch: 3 loss: 38797.58281111717 threshold 0.1\n",
      "epoch: 4 loss: 37214.885634183884 threshold 0.1\n",
      "epoch: 5 loss: 35559.50992107391 threshold 0.1\n",
      "epoch: 6 loss: 34377.50302553177 threshold 0.1\n",
      "epoch: 7 loss: 33606.88865184784 threshold 0.1\n",
      "epoch: 8 loss: 32789.87374007702 threshold 0.1\n",
      "epoch: 9 loss: 31788.696575164795 threshold 0.1\n",
      "epoch: 10 loss: 31474.9206751585 threshold 0.1\n",
      "epoch: 11 loss: 30897.09203839302 threshold 0.1\n",
      "epoch: 12 loss: 30593.165922164917 threshold 0.1\n",
      "epoch: 13 loss: 30010.62681376934 threshold 0.1\n",
      "epoch: 14 loss: 29514.609745144844 threshold 0.1\n",
      "Finished Training threshold 0.1\n"
     ]
    },
    {
     "data": {
      "text/plain": [
       "<Figure size 864x864 with 0 Axes>"
      ]
     },
     "metadata": {},
     "output_type": "display_data"
    }
   ],
   "source": [
    "running_loss = 0.0\n",
    "total_loss_plt = []\n",
    "plt.figure(figsize=(12,12))\n",
    "\n",
    "thresholds_history = []\n",
    "accuracies = []\n",
    "\n",
    "net.cuda()\n",
    "\n",
    "for epoch in range(15):  # loop over the dataset multiple times\n",
    "\n",
    "    total_loss = 0\n",
    "    total_correct = 0\n",
    "\n",
    "    nsamples = 1000\n",
    "\n",
    "    for i, data in enumerate(trainloader, 0):\n",
    "\n",
    "        # get the inputs; data is a list of [inputs, labels]\n",
    "        inputs, labels = data\n",
    "\n",
    "        preds = net(inputs.cuda()) # Pass batch\n",
    "\n",
    "        # zero the parameter gradients\n",
    "        optimizer.zero_grad()\n",
    "\n",
    "        # forward + backward + optimize\n",
    "        loss = criterion(preds.cuda(), labels.cuda()) #+ l2_reg * reg_lambda\n",
    "        loss.backward()\n",
    "        optimizer.step()      \n",
    "\n",
    "        total_loss += loss.item() * batch_size\n",
    "        total_correct += get_num_correct(preds.cuda(), labels.cuda())\n",
    "\n",
    "        net.flex1.thresh_mean.append(torch.mean(torch.tensor(net.flex1.threshold1)))\n",
    "\n",
    "\n",
    "\n",
    "    total_loss_plt.append(total_loss)\n",
    "\n",
    "    print(\"epoch:\", epoch, \"loss:\", total_loss, 'threshold', net.flex1.threshold1)\n",
    "    \n",
    "\n",
    "print('Finished Training', 'threshold', net.flex1.threshold1)"
   ]
  },
  {
   "cell_type": "code",
   "execution_count": 13,
   "metadata": {},
   "outputs": [
    {
     "data": {
      "text/plain": [
       "Parameter containing:\n",
       "tensor([[[[ 0.1557,  0.1762,  0.1325,  0.1899,  0.0270],\n",
       "          [-0.0795, -0.1172, -0.1026,  0.0394,  0.1307],\n",
       "          [-0.1631, -0.1246, -0.1384, -0.1931, -0.0205],\n",
       "          [ 0.0649,  0.1654,  0.0514, -0.0822,  0.1143],\n",
       "          [-0.0192,  0.1066,  0.1698,  0.1545,  0.0053]]],\n",
       "\n",
       "\n",
       "        [[[-0.1627, -0.1587,  0.0107, -0.1253,  0.0527],\n",
       "          [-0.1252,  0.0053, -0.1471, -0.0222, -0.0464],\n",
       "          [ 0.0701,  0.1520, -0.0895,  0.1503,  0.1140],\n",
       "          [-0.0086, -0.1959,  0.0604,  0.0483,  0.0334],\n",
       "          [ 0.0022, -0.1558, -0.0431, -0.1838, -0.1743]]],\n",
       "\n",
       "\n",
       "        [[[-0.1605, -0.1118, -0.0350, -0.1592,  0.0847],\n",
       "          [-0.0258, -0.0078, -0.0908,  0.1095, -0.1440],\n",
       "          [ 0.0272,  0.1423,  0.0172,  0.0336,  0.0283],\n",
       "          [ 0.1412, -0.1941,  0.0931,  0.1018,  0.0504],\n",
       "          [ 0.1148, -0.1222,  0.1811, -0.1530, -0.1402]]],\n",
       "\n",
       "\n",
       "        [[[-0.0180, -0.1907, -0.1825,  0.0079, -0.0342],\n",
       "          [ 0.1673,  0.0372,  0.1624,  0.0308,  0.1636],\n",
       "          [ 0.1511,  0.0509, -0.0898, -0.0091,  0.0797],\n",
       "          [-0.0304,  0.1959,  0.1953,  0.1097, -0.0493],\n",
       "          [ 0.0912, -0.1793, -0.0788,  0.1160, -0.1525]]],\n",
       "\n",
       "\n",
       "        [[[ 0.1912, -0.0936,  0.1789, -0.0616, -0.1799],\n",
       "          [ 0.0891,  0.1543,  0.0904, -0.0657,  0.1921],\n",
       "          [ 0.1640, -0.0493, -0.0332,  0.0691,  0.0663],\n",
       "          [-0.1070, -0.0505, -0.0811, -0.1407,  0.0402],\n",
       "          [-0.1646,  0.1818,  0.1482,  0.0354,  0.1760]]],\n",
       "\n",
       "\n",
       "        [[[ 0.0433,  0.1997, -0.1724,  0.0773,  0.1208],\n",
       "          [-0.1763, -0.1207, -0.0515,  0.0562,  0.1364],\n",
       "          [-0.1242,  0.1008, -0.1050,  0.1177, -0.1599],\n",
       "          [-0.1870,  0.0407, -0.1924,  0.1143,  0.1832],\n",
       "          [-0.0588, -0.0760,  0.1028, -0.1493,  0.0976]]],\n",
       "\n",
       "\n",
       "        [[[ 0.1839,  0.0434,  0.1520, -0.0841,  0.1787],\n",
       "          [ 0.1827, -0.1755, -0.1097,  0.1754, -0.1409],\n",
       "          [ 0.0220,  0.0175,  0.1141,  0.0116, -0.0474],\n",
       "          [ 0.0411,  0.0530,  0.0143, -0.0715,  0.1058],\n",
       "          [-0.1393, -0.0532, -0.0962,  0.0571,  0.1232]]],\n",
       "\n",
       "\n",
       "        [[[-0.1575,  0.1472,  0.0046, -0.0472, -0.0750],\n",
       "          [-0.0946,  0.1666, -0.0372,  0.1865,  0.1690],\n",
       "          [-0.0083,  0.1316, -0.1662,  0.1488, -0.1452],\n",
       "          [ 0.0947, -0.1203, -0.0699, -0.1102,  0.0120],\n",
       "          [ 0.0229,  0.0492, -0.1253, -0.0075,  0.0401]]],\n",
       "\n",
       "\n",
       "        [[[-0.1473, -0.0943,  0.0514,  0.1646, -0.0985],\n",
       "          [ 0.0135, -0.1819,  0.0098,  0.0861,  0.0016],\n",
       "          [-0.1009, -0.1194,  0.0414,  0.0687,  0.0265],\n",
       "          [ 0.0702,  0.0636,  0.1444,  0.0072, -0.0337],\n",
       "          [-0.0206, -0.0335,  0.0570, -0.1452,  0.1761]]],\n",
       "\n",
       "\n",
       "        [[[ 0.0798, -0.0013,  0.0904, -0.0707,  0.0107],\n",
       "          [-0.0217, -0.0004,  0.1008, -0.0108,  0.1036],\n",
       "          [-0.0219,  0.1019, -0.1473,  0.0765, -0.0398],\n",
       "          [-0.1049,  0.1082, -0.1214, -0.1196, -0.0844],\n",
       "          [-0.1923, -0.1780,  0.1784,  0.1960,  0.0806]]],\n",
       "\n",
       "\n",
       "        [[[-0.1113, -0.1663, -0.1076,  0.0820, -0.0385],\n",
       "          [-0.0154, -0.1250,  0.1454,  0.0513,  0.0194],\n",
       "          [ 0.1665, -0.1376,  0.1756,  0.1318,  0.1126],\n",
       "          [-0.0584, -0.0958, -0.0656, -0.1572, -0.0444],\n",
       "          [-0.1761,  0.0889,  0.0802,  0.1768, -0.0890]]],\n",
       "\n",
       "\n",
       "        [[[ 0.0676, -0.0616,  0.1667, -0.0987,  0.0016],\n",
       "          [-0.0228, -0.0617, -0.1225,  0.0109,  0.0003],\n",
       "          [-0.1086, -0.0233, -0.0983, -0.0463, -0.0521],\n",
       "          [-0.1863,  0.1173,  0.0284, -0.1470, -0.0988],\n",
       "          [-0.1032,  0.0650,  0.0370, -0.0010,  0.1702]]]], device='cuda:0',\n",
       "       requires_grad=True)"
      ]
     },
     "execution_count": 13,
     "metadata": {},
     "output_type": "execute_result"
    },
    {
     "data": {
      "image/png": "[encoded data removed]",
      "text/plain": [
       "<Figure size 432x288 with 1 Axes>"
      ]
     },
     "metadata": {
      "needs_background": "light"
     },
     "output_type": "display_data"
    }
   ],
   "source": [
    "#Plot the new learned distribution\n",
    "\n",
    "w_hist = torch.histc(net.conv.cpu().weight)\n",
    "start = np.min(net.conv.cpu().weight.detach().numpy())\n",
    "end = np.max(net.conv.cpu().weight.detach().numpy())\n",
    "xhist = torch.linspace(start,end,100) # histogram x-axis\n",
    "plt.plot(xhist, w_hist.cpu().detach().numpy())\n",
    "plt.title('Flexilayer weights histrogram after training T=0.1')\n",
    "plt.ylabel('Count')\n",
    "plt.xlabel('Weights values')\n",
    "net.conv.cuda().weight"
   ]
  },
  {
   "cell_type": "code",
   "execution_count": 14,
   "metadata": {},
   "outputs": [
    {
     "data": {
      "text/plain": [
       "tensor(0.0015, grad_fn=<MeanBackward0>)"
      ]
     },
     "execution_count": 14,
     "metadata": {},
     "output_type": "execute_result"
    }
   ],
   "source": [
    "torch.mean(net.conv.cpu().weight)"
   ]
  },
  {
   "cell_type": "code",
   "execution_count": 15,
   "metadata": {},
   "outputs": [
    {
     "data": {
      "text/plain": [
       "tensor(0.0977, grad_fn=<MeanBackward0>)"
      ]
     },
     "execution_count": 15,
     "metadata": {},
     "output_type": "execute_result"
    }
   ],
   "source": [
    "torch.mean(torch.abs(net.conv.cpu().weight))"
   ]
  },
  {
   "cell_type": "code",
   "execution_count": 16,
   "metadata": {},
   "outputs": [
    {
     "data": {
      "text/plain": [
       "tensor(-0.0326, grad_fn=<MeanBackward0>)"
      ]
     },
     "execution_count": 16,
     "metadata": {},
     "output_type": "execute_result"
    }
   ],
   "source": [
    "torch.mean(net.conv.cpu().bias)"
   ]
  },
  {
   "cell_type": "code",
   "execution_count": 17,
   "metadata": {},
   "outputs": [
    {
     "data": {
      "text/plain": [
       "tensor(0.0326, grad_fn=<MeanBackward0>)"
      ]
     },
     "execution_count": 17,
     "metadata": {},
     "output_type": "execute_result"
    }
   ],
   "source": [
    "torch.mean(torch.abs(net.conv.cpu().bias))"
   ]
  },
  {
   "cell_type": "markdown",
   "metadata": {},
   "source": [
    "net.conv.cuda().weight"
   ]
  },
  {
   "cell_type": "code",
   "execution_count": 18,
   "metadata": {},
   "outputs": [
    {
     "ename": "RuntimeError",
     "evalue": "Input type (torch.cuda.FloatTensor) and weight type (torch.FloatTensor) should be the same",
     "output_type": "error",
     "traceback": [
      "\u001b[0;31m---------------------------------------------------------------------------\u001b[0m",
      "\u001b[0;31mRuntimeError\u001b[0m                              Traceback (most recent call last)",
      "\u001b[0;32m<ipython-input-18-293146ea5e63>\u001b[0m in \u001b[0;36m<module>\u001b[0;34m\u001b[0m\n\u001b[1;32m      1\u001b[0m \u001b[0;31m#======================================= Testing ===================================================================================================\u001b[0m\u001b[0;34m\u001b[0m\u001b[0;34m\u001b[0m\u001b[0;34m\u001b[0m\u001b[0m\n\u001b[0;32m----> 2\u001b[0;31m \u001b[0mtest_acc\u001b[0m \u001b[0;34m=\u001b[0m \u001b[0mtest\u001b[0m\u001b[0;34m(\u001b[0m\u001b[0;34m)\u001b[0m \u001b[0;31m# Test error\u001b[0m\u001b[0;34m\u001b[0m\u001b[0;34m\u001b[0m\u001b[0m\n\u001b[0m\u001b[1;32m      3\u001b[0m \u001b[0mprint\u001b[0m\u001b[0;34m(\u001b[0m\u001b[0mtest_acc\u001b[0m\u001b[0;34m)\u001b[0m\u001b[0;34m\u001b[0m\u001b[0;34m\u001b[0m\u001b[0m\n\u001b[1;32m      4\u001b[0m \u001b[0;34m\u001b[0m\u001b[0m\n\u001b[1;32m      5\u001b[0m \u001b[0;31m# Per class accuracy\u001b[0m\u001b[0;34m\u001b[0m\u001b[0;34m\u001b[0m\u001b[0;34m\u001b[0m\u001b[0m\n",
      "\u001b[0;32m<ipython-input-11-af9a95ae9dcf>\u001b[0m in \u001b[0;36mtest\u001b[0;34m()\u001b[0m\n\u001b[1;32m      9\u001b[0m         \u001b[0mimages\u001b[0m \u001b[0;34m=\u001b[0m \u001b[0mimages\u001b[0m\u001b[0;34m.\u001b[0m\u001b[0mcuda\u001b[0m\u001b[0;34m(\u001b[0m\u001b[0;34m)\u001b[0m\u001b[0;34m\u001b[0m\u001b[0;34m\u001b[0m\u001b[0m\n\u001b[1;32m     10\u001b[0m         \u001b[0mlabels\u001b[0m \u001b[0;34m=\u001b[0m \u001b[0mlabels\u001b[0m\u001b[0;34m.\u001b[0m\u001b[0mcuda\u001b[0m\u001b[0;34m(\u001b[0m\u001b[0;34m)\u001b[0m\u001b[0;34m\u001b[0m\u001b[0;34m\u001b[0m\u001b[0m\n\u001b[0;32m---> 11\u001b[0;31m       \u001b[0moutputs\u001b[0m \u001b[0;34m=\u001b[0m \u001b[0mnet\u001b[0m\u001b[0;34m(\u001b[0m\u001b[0mVariable\u001b[0m\u001b[0;34m(\u001b[0m\u001b[0mimages\u001b[0m\u001b[0;34m.\u001b[0m\u001b[0mcuda\u001b[0m\u001b[0;34m(\u001b[0m\u001b[0;34m)\u001b[0m\u001b[0;34m)\u001b[0m\u001b[0;34m)\u001b[0m\u001b[0;34m\u001b[0m\u001b[0;34m\u001b[0m\u001b[0m\n\u001b[0m\u001b[1;32m     12\u001b[0m       \u001b[0mlabels\u001b[0m \u001b[0;34m=\u001b[0m \u001b[0mVariable\u001b[0m\u001b[0;34m(\u001b[0m\u001b[0mlabels\u001b[0m\u001b[0;34m.\u001b[0m\u001b[0mcuda\u001b[0m\u001b[0;34m(\u001b[0m\u001b[0;34m)\u001b[0m\u001b[0;34m)\u001b[0m\u001b[0;34m\u001b[0m\u001b[0;34m\u001b[0m\u001b[0m\n\u001b[1;32m     13\u001b[0m       \u001b[0m_\u001b[0m\u001b[0;34m,\u001b[0m\u001b[0mpredicted\u001b[0m \u001b[0;34m=\u001b[0m \u001b[0moutputs\u001b[0m\u001b[0;34m.\u001b[0m\u001b[0mmax\u001b[0m\u001b[0;34m(\u001b[0m\u001b[0;36m1\u001b[0m\u001b[0;34m)\u001b[0m\u001b[0;34m\u001b[0m\u001b[0;34m\u001b[0m\u001b[0m\n",
      "\u001b[0;32m~/anaconda3/envs/meng/lib/python3.7/site-packages/torch/nn/modules/module.py\u001b[0m in \u001b[0;36m__call__\u001b[0;34m(self, *input, **kwargs)\u001b[0m\n\u001b[1;32m    530\u001b[0m             \u001b[0mresult\u001b[0m \u001b[0;34m=\u001b[0m \u001b[0mself\u001b[0m\u001b[0;34m.\u001b[0m\u001b[0m_slow_forward\u001b[0m\u001b[0;34m(\u001b[0m\u001b[0;34m*\u001b[0m\u001b[0minput\u001b[0m\u001b[0;34m,\u001b[0m \u001b[0;34m**\u001b[0m\u001b[0mkwargs\u001b[0m\u001b[0;34m)\u001b[0m\u001b[0;34m\u001b[0m\u001b[0;34m\u001b[0m\u001b[0m\n\u001b[1;32m    531\u001b[0m         \u001b[0;32melse\u001b[0m\u001b[0;34m:\u001b[0m\u001b[0;34m\u001b[0m\u001b[0;34m\u001b[0m\u001b[0m\n\u001b[0;32m--> 532\u001b[0;31m             \u001b[0mresult\u001b[0m \u001b[0;34m=\u001b[0m \u001b[0mself\u001b[0m\u001b[0;34m.\u001b[0m\u001b[0mforward\u001b[0m\u001b[0;34m(\u001b[0m\u001b[0;34m*\u001b[0m\u001b[0minput\u001b[0m\u001b[0;34m,\u001b[0m \u001b[0;34m**\u001b[0m\u001b[0mkwargs\u001b[0m\u001b[0;34m)\u001b[0m\u001b[0;34m\u001b[0m\u001b[0;34m\u001b[0m\u001b[0m\n\u001b[0m\u001b[1;32m    533\u001b[0m         \u001b[0;32mfor\u001b[0m \u001b[0mhook\u001b[0m \u001b[0;32min\u001b[0m \u001b[0mself\u001b[0m\u001b[0;34m.\u001b[0m\u001b[0m_forward_hooks\u001b[0m\u001b[0;34m.\u001b[0m\u001b[0mvalues\u001b[0m\u001b[0;34m(\u001b[0m\u001b[0;34m)\u001b[0m\u001b[0;34m:\u001b[0m\u001b[0;34m\u001b[0m\u001b[0;34m\u001b[0m\u001b[0m\n\u001b[1;32m    534\u001b[0m             \u001b[0mhook_result\u001b[0m \u001b[0;34m=\u001b[0m \u001b[0mhook\u001b[0m\u001b[0;34m(\u001b[0m\u001b[0mself\u001b[0m\u001b[0;34m,\u001b[0m \u001b[0minput\u001b[0m\u001b[0;34m,\u001b[0m \u001b[0mresult\u001b[0m\u001b[0;34m)\u001b[0m\u001b[0;34m\u001b[0m\u001b[0;34m\u001b[0m\u001b[0m\n",
      "\u001b[0;32m<ipython-input-4-bd1e53a7a089>\u001b[0m in \u001b[0;36mforward\u001b[0;34m(self, t)\u001b[0m\n\u001b[1;32m     14\u001b[0m \u001b[0;34m\u001b[0m\u001b[0m\n\u001b[1;32m     15\u001b[0m         \u001b[0;31m# (2) Flexible layer\u001b[0m\u001b[0;34m\u001b[0m\u001b[0;34m\u001b[0m\u001b[0;34m\u001b[0m\u001b[0m\n\u001b[0;32m---> 16\u001b[0;31m         \u001b[0mt_conv\u001b[0m \u001b[0;34m=\u001b[0m \u001b[0mself\u001b[0m\u001b[0;34m.\u001b[0m\u001b[0mconv\u001b[0m\u001b[0;34m(\u001b[0m\u001b[0mt\u001b[0m\u001b[0;34m.\u001b[0m\u001b[0mcuda\u001b[0m\u001b[0;34m(\u001b[0m\u001b[0;34m)\u001b[0m\u001b[0;34m)\u001b[0m\u001b[0;34m\u001b[0m\u001b[0;34m\u001b[0m\u001b[0m\n\u001b[0m\u001b[1;32m     17\u001b[0m         \u001b[0mt_max\u001b[0m \u001b[0;34m=\u001b[0m \u001b[0mself\u001b[0m\u001b[0;34m.\u001b[0m\u001b[0mpool\u001b[0m\u001b[0;34m(\u001b[0m\u001b[0mt\u001b[0m\u001b[0;34m.\u001b[0m\u001b[0mcuda\u001b[0m\u001b[0;34m(\u001b[0m\u001b[0;34m)\u001b[0m\u001b[0;34m)\u001b[0m\u001b[0;34m\u001b[0m\u001b[0;34m\u001b[0m\u001b[0m\n\u001b[1;32m     18\u001b[0m \u001b[0;34m\u001b[0m\u001b[0m\n",
      "\u001b[0;32m~/anaconda3/envs/meng/lib/python3.7/site-packages/torch/nn/modules/module.py\u001b[0m in \u001b[0;36m__call__\u001b[0;34m(self, *input, **kwargs)\u001b[0m\n\u001b[1;32m    530\u001b[0m             \u001b[0mresult\u001b[0m \u001b[0;34m=\u001b[0m \u001b[0mself\u001b[0m\u001b[0;34m.\u001b[0m\u001b[0m_slow_forward\u001b[0m\u001b[0;34m(\u001b[0m\u001b[0;34m*\u001b[0m\u001b[0minput\u001b[0m\u001b[0;34m,\u001b[0m \u001b[0;34m**\u001b[0m\u001b[0mkwargs\u001b[0m\u001b[0;34m)\u001b[0m\u001b[0;34m\u001b[0m\u001b[0;34m\u001b[0m\u001b[0m\n\u001b[1;32m    531\u001b[0m         \u001b[0;32melse\u001b[0m\u001b[0;34m:\u001b[0m\u001b[0;34m\u001b[0m\u001b[0;34m\u001b[0m\u001b[0m\n\u001b[0;32m--> 532\u001b[0;31m             \u001b[0mresult\u001b[0m \u001b[0;34m=\u001b[0m \u001b[0mself\u001b[0m\u001b[0;34m.\u001b[0m\u001b[0mforward\u001b[0m\u001b[0;34m(\u001b[0m\u001b[0;34m*\u001b[0m\u001b[0minput\u001b[0m\u001b[0;34m,\u001b[0m \u001b[0;34m**\u001b[0m\u001b[0mkwargs\u001b[0m\u001b[0;34m)\u001b[0m\u001b[0;34m\u001b[0m\u001b[0;34m\u001b[0m\u001b[0m\n\u001b[0m\u001b[1;32m    533\u001b[0m         \u001b[0;32mfor\u001b[0m \u001b[0mhook\u001b[0m \u001b[0;32min\u001b[0m \u001b[0mself\u001b[0m\u001b[0;34m.\u001b[0m\u001b[0m_forward_hooks\u001b[0m\u001b[0;34m.\u001b[0m\u001b[0mvalues\u001b[0m\u001b[0;34m(\u001b[0m\u001b[0;34m)\u001b[0m\u001b[0;34m:\u001b[0m\u001b[0;34m\u001b[0m\u001b[0;34m\u001b[0m\u001b[0m\n\u001b[1;32m    534\u001b[0m             \u001b[0mhook_result\u001b[0m \u001b[0;34m=\u001b[0m \u001b[0mhook\u001b[0m\u001b[0;34m(\u001b[0m\u001b[0mself\u001b[0m\u001b[0;34m,\u001b[0m \u001b[0minput\u001b[0m\u001b[0;34m,\u001b[0m \u001b[0mresult\u001b[0m\u001b[0;34m)\u001b[0m\u001b[0;34m\u001b[0m\u001b[0;34m\u001b[0m\u001b[0m\n",
      "\u001b[0;32m~/anaconda3/envs/meng/lib/python3.7/site-packages/torch/nn/modules/conv.py\u001b[0m in \u001b[0;36mforward\u001b[0;34m(self, input)\u001b[0m\n\u001b[1;32m    343\u001b[0m \u001b[0;34m\u001b[0m\u001b[0m\n\u001b[1;32m    344\u001b[0m     \u001b[0;32mdef\u001b[0m \u001b[0mforward\u001b[0m\u001b[0;34m(\u001b[0m\u001b[0mself\u001b[0m\u001b[0;34m,\u001b[0m \u001b[0minput\u001b[0m\u001b[0;34m)\u001b[0m\u001b[0;34m:\u001b[0m\u001b[0;34m\u001b[0m\u001b[0;34m\u001b[0m\u001b[0m\n\u001b[0;32m--> 345\u001b[0;31m         \u001b[0;32mreturn\u001b[0m \u001b[0mself\u001b[0m\u001b[0;34m.\u001b[0m\u001b[0mconv2d_forward\u001b[0m\u001b[0;34m(\u001b[0m\u001b[0minput\u001b[0m\u001b[0;34m,\u001b[0m \u001b[0mself\u001b[0m\u001b[0;34m.\u001b[0m\u001b[0mweight\u001b[0m\u001b[0;34m)\u001b[0m\u001b[0;34m\u001b[0m\u001b[0;34m\u001b[0m\u001b[0m\n\u001b[0m\u001b[1;32m    346\u001b[0m \u001b[0;34m\u001b[0m\u001b[0m\n\u001b[1;32m    347\u001b[0m \u001b[0;32mclass\u001b[0m \u001b[0mConv3d\u001b[0m\u001b[0;34m(\u001b[0m\u001b[0m_ConvNd\u001b[0m\u001b[0;34m)\u001b[0m\u001b[0;34m:\u001b[0m\u001b[0;34m\u001b[0m\u001b[0;34m\u001b[0m\u001b[0m\n",
      "\u001b[0;32m~/anaconda3/envs/meng/lib/python3.7/site-packages/torch/nn/modules/conv.py\u001b[0m in \u001b[0;36mconv2d_forward\u001b[0;34m(self, input, weight)\u001b[0m\n\u001b[1;32m    340\u001b[0m                             _pair(0), self.dilation, self.groups)\n\u001b[1;32m    341\u001b[0m         return F.conv2d(input, weight, self.bias, self.stride,\n\u001b[0;32m--> 342\u001b[0;31m                         self.padding, self.dilation, self.groups)\n\u001b[0m\u001b[1;32m    343\u001b[0m \u001b[0;34m\u001b[0m\u001b[0m\n\u001b[1;32m    344\u001b[0m     \u001b[0;32mdef\u001b[0m \u001b[0mforward\u001b[0m\u001b[0;34m(\u001b[0m\u001b[0mself\u001b[0m\u001b[0;34m,\u001b[0m \u001b[0minput\u001b[0m\u001b[0;34m)\u001b[0m\u001b[0;34m:\u001b[0m\u001b[0;34m\u001b[0m\u001b[0;34m\u001b[0m\u001b[0m\n",
      "\u001b[0;31mRuntimeError\u001b[0m: Input type (torch.cuda.FloatTensor) and weight type (torch.FloatTensor) should be the same"
     ]
    }
   ],
   "source": [
    "\n",
    "#======================================= Testing ===================================================================================================\n",
    "test_acc = test() # Test error\n",
    "print(test_acc)\n",
    "\n",
    "# Per class accuracy\n",
    "class_correct = list(0. for i in range(10)) # Individual class error\n",
    "class_total = list(0. for i in range(10))\n",
    "with torch.no_grad():\n",
    "    for data in testloader:\n",
    "        images, labels = data\n",
    "        if torch.cuda.is_available():\n",
    "          images = images.cuda()\n",
    "          labels = labels.cuda()\n",
    "        images = Variable(images)\n",
    "        labels = Variable(labels)\n",
    "        outputs = net(images)\n",
    "        _, predicted = torch.max(outputs, 1)\n",
    "        c = (predicted == labels).squeeze()\n",
    "        for i in range(4):\n",
    "            label = labels[i]\n",
    "            class_correct[label] += c[i].item()\n",
    "            class_total[label] += 1\n",
    "\n",
    "for i in range(10):\n",
    "    print('Accuracy of %5s : %2d %%' % (\n",
    "        classes[i], 100 * class_correct[i] / class_total[i]))"
   ]
  },
  {
   "cell_type": "code",
   "execution_count": null,
   "metadata": {},
   "outputs": [],
   "source": [
    "\n",
    "for t in threholds:\n",
    "    \n",
    "    net.flex1.threshold1 = t    \n",
    "    \n",
    "    \n",
    "    test_acc = test() \n",
    "    accuracies.append(test_acc)\n",
    "    \n",
    "    def normalize_output(img):\n",
    "        img = img - img.min()\n",
    "        img = img / img.max()\n",
    "        return img\n",
    "\n",
    "    # Visualize feature maps\n",
    "    activation = {}\n",
    "    def get_activation(name):\n",
    "        def hook(model, input, output):\n",
    "            activation[name] = output.detach()\n",
    "        return hook\n",
    "\n",
    "    net.flex1.cuda().register_forward_hook(get_activation('arb'))\n",
    "    data, _ = testset[0]\n",
    "    data.unsqueeze_(0)\n",
    "    output = net(data.cuda())\n",
    "\n",
    "    act = activation['arb'].squeeze()\n",
    "    #fig, axarr = plt.subplots(act.size(0))\n",
    "    fig = plt.figure()\n",
    "    fig = plt.figure(figsize=(10,10))\n",
    "    for idx in range(4):\n",
    "        im = plt.subplot(1,4, idx + 1)\n",
    "        plt.imshow(act.cpu()[idx,:,:], cmap=\"gray\")\n",
    "        #axarr[idx].imshow(act[idx], cmap=\"gray\")"
   ]
  },
  {
   "cell_type": "code",
   "execution_count": null,
   "metadata": {},
   "outputs": [],
   "source": [
    "plt.figure(figsize=(5,5))\n",
    "plt.plot(threholds, accuracies, \"*-\")\n",
    "#plt.xticks(np.arange(0, 1, step=0.1))\n",
    "plt.title(\"Testing Accuracy vs Scalar Threshold T (T=0.1)\")\n",
    "plt.xlabel(\"Threshold Value\")\n",
    "plt.ylabel(\"Testing Accuracy\")\n",
    "plt.legend()\n",
    "plt.savefig('./figures/accuracy_vs_scalar_threshold.svg', format='svg')\n",
    "plt.show()"
   ]
  },
  {
   "cell_type": "code",
   "execution_count": null,
   "metadata": {},
   "outputs": [],
   "source": [
    "plt.plot(total_loss_plt)\n",
    "plt.ylabel('Loss')\n",
    "plt.xlabel('Epochs')\n",
    "plt.show()"
   ]
  },
  {
   "cell_type": "code",
   "execution_count": null,
   "metadata": {},
   "outputs": [],
   "source": [
    "#before training\n",
    "print(memorized.detach().numpy().item())"
   ]
  },
  {
   "cell_type": "code",
   "execution_count": null,
   "metadata": {},
   "outputs": [],
   "source": [
    "#after training\n",
    "print(net.flex1.threshold1)"
   ]
  },
  {
   "cell_type": "markdown",
   "metadata": {},
   "source": [
    "# plot the flex weights after training\n",
    "\n",
    "fig = plt.figure()\n",
    "fig = plt.figure(figsize=(10,10))\n",
    "plt.suptitle('Flexilayer weights after training', fontsize = 16)\n",
    "for idx, filt  in enumerate(net.conv.weight.cpu().detach().numpy()[:,0,:,:]):\n",
    "    im = plt.subplot(3,4, idx + 1)\n",
    "    plt.imshow(net.conv.weight.cpu().detach().numpy()[idx,0,:,:], cmap=\"gray\")\n",
    "#plt.colorbar()\n",
    "\n",
    "    \n",
    "fig.show()"
   ]
  },
  {
   "cell_type": "code",
   "execution_count": null,
   "metadata": {},
   "outputs": [],
   "source": [
    "plt.plot(net.flex1.thresh_mean)\n",
    "plt.ylabel('Threshold mean value')\n",
    "plt.xlabel('Optimiser steps')\n",
    "plt.show()"
   ]
  },
  {
   "cell_type": "markdown",
   "metadata": {},
   "source": [
    "path = \"./models/FMNIST_FlexiLayer-avgpool-nomaxpool_20201803.pt\"\n",
    "torch.save(net.state_dict(), path)"
   ]
  },
  {
   "cell_type": "code",
   "execution_count": null,
   "metadata": {},
   "outputs": [],
   "source": [
    "def normalize_output(img):\n",
    "    img = img - img.min()\n",
    "    img = img / img.max()\n",
    "    return img\n",
    "\n",
    "# Visualize feature maps\n",
    "activation = {}\n",
    "def get_activation(name):\n",
    "    def hook(model, input, output):\n",
    "        activation[name] = output.detach()\n",
    "    return hook\n",
    "\n",
    "net.conv.cuda().register_forward_hook(get_activation('flex1'))\n",
    "data, _ = testset[0]\n",
    "data.unsqueeze_(0)\n",
    "output = net(data.cuda())\n",
    "#fig = plt.figure()\n",
    "#matplotlib_imshow(data[0], one_channel=True)\n",
    "\n",
    "act = activation['flex1'].squeeze()\n",
    "#fig, axarr = plt.subplots(act.size(0))\n",
    "fig = plt.figure()\n",
    "fig = plt.figure(figsize=(10,10))\n",
    "for idx in range(4):  #for idx in range(act.size(0)):\n",
    "    im = plt.subplot(1,4, idx + 1)\n",
    "    plt.imshow(act.cpu()[idx,:,:], cmap=\"gray\")\n",
    "    #axarr[idx].imshow(act[idx], cmap=\"gray\")"
   ]
  },
  {
   "cell_type": "code",
   "execution_count": null,
   "metadata": {},
   "outputs": [],
   "source": [
    "net"
   ]
  },
  {
   "cell_type": "code",
   "execution_count": null,
   "metadata": {},
   "outputs": [],
   "source": [
    "for name, param in net.named_parameters():\n",
    "    if param.requires_grad:\n",
    "        print (name)"
   ]
  },
  {
   "cell_type": "code",
   "execution_count": null,
   "metadata": {},
   "outputs": [],
   "source": [
    "l2_reg = None\n",
    "for name, param in net.named_parameters():\n",
    "        if l2_reg is None:\n",
    "            l2_reg = param.norm(2)\n",
    "            print(name)\n",
    "        else:\n",
    "            print('here')\n",
    "            print(name)"
   ]
  },
  {
   "cell_type": "code",
   "execution_count": null,
   "metadata": {},
   "outputs": [],
   "source": [
    "model = net\n",
    "# ===============================================  Attack methods ===============================================================================\n",
    "\n",
    "# FAST GRADIENT SIGN METHOD (FGSM)\n",
    "def FGSM(test_loader,epsilon = 0.1,min_val = -1,max_val = 1):\n",
    "  correct = 0                   # Fast gradient sign method\n",
    "  adv_correct = 0\n",
    "  misclassified = 0\n",
    "  total = 0\n",
    "  adv_noise =0 \n",
    "  adverserial_images = []\n",
    "  y_preds = []\n",
    "  y_preds_adv = []\n",
    "  test_images = []\n",
    "  test_label = []\n",
    "  \n",
    "  for i, (images,labels) in enumerate(test_loader):\n",
    "    if torch.cuda.is_available():\n",
    "      images = images.cuda()\n",
    "      labels = labels.cuda()\n",
    "    images = Variable(images,requires_grad = True)\n",
    "    labels = Variable(labels)\n",
    "    \n",
    "    outputs = model(images)\n",
    "    loss =criterion(outputs,labels)\n",
    "\n",
    "    model.zero_grad()\n",
    "    if images.grad is not None:\n",
    "      images.grad.data.fill_(0)\n",
    "    loss.backward()\n",
    "    \n",
    "    grad = torch.sign(images.grad.data) # Take the sign of the gradient.\n",
    "    images_adv = torch.clamp(images.data + epsilon*grad,min_val,max_val)     # x_adv = x + epsilon*grad\n",
    "    \n",
    "    adv_output = model(Variable(images_adv)) # output by the model after adding adverserial noise\n",
    "    \n",
    "    _,predicted = torch.max(outputs.data,1)      # Prediction on the clean image\n",
    "    _,adv_predicted = torch.max(adv_output.data,1) # Prediction on the image after adding adverserial noise\n",
    "    \n",
    "    total += labels.size(0)\n",
    "    correct += (predicted == labels).sum().item()\n",
    "    adv_correct += (adv_predicted == labels).sum().item()\n",
    "    misclassified += (predicted != adv_predicted).sum().item()\n",
    "    \n",
    "    adverserial_images.extend((images_adv).cpu().data.numpy())\n",
    "    y_preds.extend(predicted.cpu().data.numpy())\n",
    "    y_preds_adv.extend(adv_predicted.cpu().data.numpy())\n",
    "    test_images.extend(images.cpu().data.numpy())\n",
    "    test_label.extend(labels.cpu().data.numpy())\n",
    "    \n",
    "    \n",
    "  np.save('adverserial_images.npy',adverserial_images)    # Save the adverserial labels, images\n",
    "  np.save('y_preds.npy',y_preds)\n",
    "  np.save('y_preds_adv.npy',y_preds_adv)\n",
    "  np.save('test_images.npy',test_images)\n",
    "  np.save('test_label.npy',test_label)\n",
    "  print('Accuracy of the model w/0 adverserial attack on test images is : {} %'.format(100*correct/total))\n",
    "  print('Accuracy of the model with adverserial attack on test images is : {} %'.format(100* adv_correct/total))\n",
    "  print('Number of misclassified examples(as compared to clean predictions): {}/{}'.format(misclassified,total))\n",
    "\n",
    "\n",
    "\n",
    "\n",
    "#  ITERATIVE - FGSM\n",
    "\n",
    "def i_FGSM(test_loader,iterations = 1,epsilon = 0.1,min_val = -1,max_val = 1):\n",
    "  correct = 0                # Iterative fast gradient sign method\n",
    "  adv_correct = 0\n",
    "  misclassified = 0\n",
    "  total = 0 \n",
    "  adverserial_images = []\n",
    "  y_preds = []\n",
    "  y_preds_adv = []\n",
    "  test_images = []\n",
    "  test_label = []\n",
    "  \n",
    "  for i, (images,labels) in enumerate(test_loader):\n",
    "    if torch.cuda.is_available():\n",
    "      images = images.cuda()\n",
    "      labels = labels.cuda()\n",
    "      output_clean = model(Variable(images))\n",
    "    images_adv = Variable(images.data,requires_grad = True)\n",
    "    # Apply the FGSM for T iterations\n",
    "    for j in range(iterations):  \n",
    "      if torch.cuda.is_available():\n",
    "        images_adv = images_adv.cuda()\n",
    "      outputs = model(images_adv)\n",
    "      loss = criterion(outputs,Variable(labels))\n",
    "      \n",
    "      model.zero_grad()\n",
    "      if images_adv.grad is not None:\n",
    "        images.adv.grad.data.fill_(0)\n",
    "      \n",
    "      loss.backward()\n",
    "      grad = torch.sign(images_adv.grad.data)   # Get the sign of the gradient\n",
    "      \n",
    "      images_adv = images_adv + (epsilon/iterations)*grad  # X_n+1 = X_n + (epsilon/T)*grad   T = no. of iterations\n",
    "       # Clip the image \n",
    "      images_adv = torch.where(images_adv > images + epsilon,images+epsilon,images_adv)\n",
    "      images_adv = torch.where(images_adv < images-epsilon,images-epsilon,images_adv)\n",
    "      images_adv = torch.clamp(images_adv,min_val,max_val)\n",
    "      images_adv = Variable(images_adv.data,requires_grad = True)\n",
    "      \n",
    "\n",
    "    adv_output = model(Variable(images_adv))\n",
    "    \n",
    "    _,predicted = torch.max(output_clean.data,1)    # Ouput of the clean image\n",
    "    _,adv_predicted = torch.max(adv_output.data,1) # Output of the image after adding adverserial noise\n",
    "    \n",
    "    total += labels.size(0)\n",
    "    correct += (predicted == labels).sum().item()\n",
    "    adv_correct += (adv_predicted == labels).sum().item()\n",
    "    misclassified += (predicted != adv_predicted).sum().item()\n",
    "    \n",
    "    adverserial_images.extend((images_adv).cpu().data.numpy())\n",
    "    y_preds.extend(predicted.cpu().data.numpy())\n",
    "    y_preds_adv.extend(adv_predicted.cpu().data.numpy())\n",
    "    test_images.extend(images.cpu().data.numpy())\n",
    "    test_label.extend(labels.cpu().data.numpy())\n",
    "    \n",
    "  np.save('adverserial_images.npy',adverserial_images)\n",
    "  np.save('y_preds.npy',y_preds)\n",
    "  np.save('y_preds_adv.npy',y_preds_adv)\n",
    "  np.save('test_images.npy',test_images)\n",
    "  np.save('test_label.npy',test_label)\n",
    "  print('Accuracy of the model w/0 adverserial attack on test images is : {} %'.format(100*correct/total))\n",
    "  print('Accuracy of the model with adverserial attack on test images is : {} %'.format(100* adv_correct/total))\n",
    "  print('Number of misclassified examples(as compared to clean predictions): {}/{}'.format(misclassified,total))\n",
    "\n",
    "\n",
    "# ========================================= Attack the model ============================================================================\n",
    "'''  \n",
    "The image lies between [0,1] but since I have trained the whole network on normalized input, Therefore the min_val = -2.117 and max_val = 2.64 and \n",
    "not {0,1}\n",
    "We unnormalize the images for visualisation.\n",
    "The values of epsilon has been chosen according to the normalized input\n",
    "'''\n",
    "#i_FGSM(testloader,iterations = 15,epsilon = 0.15,min_val = -2.117,max_val = 2.64) \n",
    "FGSM(testloader,epsilon = 0.1,min_val = -2.117,max_val = 2.64)\n",
    "\n",
    "# ============================== Visualisation ===================================================================================================\n",
    "adverserial_images = np.load('adverserial_images.npy')\n",
    "y_preds = np.load('y_preds.npy')\n",
    "y_preds_adv = np.load('y_preds_adv.npy')\n",
    "test_images = np.load('test_images.npy')\n",
    "test_label = np.load('test_label.npy')\n",
    "\n",
    "c = adverserial_images - test_images  # Verify whether the max diff between the image and adverserial image in epsilon or not\n",
    "c.max()\n",
    "\n",
    "mean = np.array([0.485, 0.456, 0.406])\n",
    "mean = mean[:,None,None]\n",
    "std = np.array([0.229, 0.224, 0.225])\n",
    "std = std[:,None,None]\n",
    "\n",
    "# Get index of  all the images where the attack is succesful\n",
    "attack = (y_preds != y_preds_adv)\n",
    "indexes = []\n",
    "for i in range(len(attack)):\n",
    "  if attack[i] == True:\n",
    "    indexes.append(i)\n",
    "\n",
    "indexes = np.array(indexes)\n",
    "\n",
    "\n",
    "# Plot the images \n",
    "plt_idx = 0\n",
    "while plt_idx < 2:\n",
    "    idx = np.random.choice(indexes)\n",
    "    img = test_images[idx]\n",
    "    adv_img = adverserial_images[idx]\n",
    "    img = img*std + mean\n",
    "    img = np.transpose(img,(1,2,0))\n",
    "    img = img.clip(0,1)\n",
    "   \n",
    "    adv_img = adv_img*std + mean\n",
    "    adv_img =np.transpose(adv_img,(1,2,0))\n",
    "    adv_img = adv_img.clip(0,1)\n",
    "    noise = adv_img - img\n",
    "    noise = np.absolute(10*noise)  # Noise is multiplied by 10 for visualisation purpose\n",
    "    noise = noise.clip(0,1)\n",
    "    \n",
    "    if y_preds[idx] != y_preds_adv[idx]:\n",
    "        disp_im = np.concatenate((img, adv_img,noise), axis=1)\n",
    "        ax = plt.subplot(1,2,plt_idx+1)\n",
    "#         ax.set_title(classes[test_label[idx]],classes[y_preds[idx]], classes[y_preds_adv[idx]] )\n",
    "        ax.set_title(\"pred: {}, adv:{}\".format(y_preds[idx], y_preds_adv[idx]))\n",
    "        plt.imshow(disp_im)\n",
    "        plt.xticks([])\n",
    "        plt.yticks([])\n",
    "        plt_idx += 1\n",
    "        print(\"True Label: \",classes[test_label[idx]],\" \",\"Predicted Label:\",classes[y_preds[idx]],\" \", \"Adverserial Label:\",classes[y_preds_adv[idx]])\n",
    "plt.show()"
   ]
  },
  {
   "cell_type": "code",
   "execution_count": null,
   "metadata": {},
   "outputs": [],
   "source": []
  },
  {
   "cell_type": "code",
   "execution_count": null,
   "metadata": {},
   "outputs": [],
   "source": []
  },
  {
   "cell_type": "code",
   "execution_count": null,
   "metadata": {},
   "outputs": [],
   "source": []
  },
  {
   "cell_type": "code",
   "execution_count": null,
   "metadata": {},
   "outputs": [],
   "source": []
  }
 ],
 "metadata": {
  "kernelspec": {
   "display_name": "Python 3",
   "language": "python",
   "name": "python3"
  },
  "language_info": {
   "codemirror_mode": {
    "name": "ipython",
    "version": 3
   },
   "file_extension": ".py",
   "mimetype": "text/x-python",
   "name": "python",
   "nbconvert_exporter": "python",
   "pygments_lexer": "ipython3",
   "version": "3.7.7"
  }
 },
 "nbformat": 4,
 "nbformat_minor": 2
}
