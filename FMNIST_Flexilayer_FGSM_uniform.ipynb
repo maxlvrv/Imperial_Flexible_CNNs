{
 "cells": [
  {
   "cell_type": "code",
   "execution_count": 1,
   "metadata": {},
   "outputs": [],
   "source": [
    "\"\"\"\n",
    "\n",
    "Date: 18 March 2020\n",
    "\n",
    "Python version:      3.7\n",
    "Tensorboard version: 1.14.0\n",
    "PyTorch version:     1.2.0\n",
    "\n",
    "@author: Maksim Lavrov\n",
    "\n",
    "Only one flexible layer with 12 output filters and with avgpool instead of maxpool in the flexilayer\n",
    "But without the usual 2x2 maxpool following\n",
    "\n",
    "Visualising a single threshold layer pixel to see if assymptotes\n",
    "\n",
    "\"\"\"\n",
    "\n",
    "# imports\n",
    "import matplotlib.pyplot as plt\n",
    "from mpl_toolkits.axes_grid1 import make_axes_locatable\n",
    "import numpy as np\n",
    "\n",
    "import torch\n",
    "import torchvision\n",
    "import torchvision.transforms as transforms\n",
    "\n",
    "import torch.nn as nn\n",
    "import torch.nn.functional as F\n",
    "import torch.optim as optim\n",
    "\n",
    "from torch.autograd import Variable\n",
    "\n",
    "# transforms\n",
    "transform = transforms.Compose(\n",
    "    [transforms.ToTensor(),\n",
    "    transforms.Normalize((0.5,), (0.5,))\n",
    "    ])\n",
    "\n",
    "# datasets\n",
    "trainset = torchvision.datasets.FashionMNIST('./data',\n",
    "    download=True,\n",
    "    train=True,\n",
    "    transform=transform)\n",
    "testset = torchvision.datasets.FashionMNIST('./data',\n",
    "    download=True,\n",
    "    train=False,\n",
    "    transform=transform)\n",
    "\n",
    "#create a dataset subset to reduce training time\n",
    "\n",
    "sampler_train = list(range(0, len(trainset), 500))\n",
    "sampler_test = list(range(0, len(testset), 500))\n",
    "trainset_samp = torch.utils.data.Subset(trainset, sampler_train)\n",
    "testset_samp = torch.utils.data.Subset(testset, sampler_test)\n",
    "\n",
    "#set size of batch and learning rate\n",
    "batch_size=100\n",
    "lr=0.001\n",
    "\n",
    "# dataloaders\n",
    "trainloader = torch.utils.data.DataLoader(trainset, batch_size=batch_size,\n",
    "                                        shuffle=True, num_workers=4)\n",
    "\n",
    "\n",
    "testloader = torch.utils.data.DataLoader(testset, batch_size=batch_size,\n",
    "                                        shuffle=False, num_workers=4)\n",
    "\n",
    "# constant for classes\n",
    "classes = ('T-shirt/top', 'Trouser', 'Pullover', 'Dress', 'Coat',\n",
    "        'Sandal', 'Shirt', 'Sneaker', 'Bag', 'Ankle Boot')"
   ]
  },
  {
   "cell_type": "code",
   "execution_count": 2,
   "metadata": {},
   "outputs": [],
   "source": [
    "#Xavier threshold initialization\n",
    "\n",
    "def init_weights(m):\n",
    "    if type(m) == nn.Conv2d:\n",
    "        torch.nn.init.xavier_uniform(m.threshold1)\n",
    "        m.bias.data.fill_(0.01)"
   ]
  },
  {
   "cell_type": "markdown",
   "metadata": {},
   "source": [
    "class FlexiLayer(nn.Conv2d):\n",
    "    def __init__(self, in_channels, out_channels, kernel_size, stride=1,\n",
    "                 padding=0, dilation=1, groups=1,\n",
    "                 bias=True, padding_mode='zeros'):\n",
    "        kernel_size = kernel_size\n",
    "        stride = stride\n",
    "        padding = padding\n",
    "        dilation = dilation\n",
    "        super(FlexiLayer, self).__init__(\n",
    "            in_channels, out_channels, kernel_size, stride, padding, dilation,\n",
    "            groups, bias, padding_mode)\n",
    "        \n",
    "        #mask\n",
    "        self.threshold1 = nn.parameter.Parameter(torch.empty(1, self.out_channels, 24, 24).normal_(mean=0.15,std=0.025))\n",
    "        \n",
    "        torch.nn.init.xavier_uniform(self.threshold1.cuda())\n",
    "        \n",
    "        self.memorized = self.threshold1.clone()\n",
    "        self.memorized_1loop = []\n",
    "        self.memorized_1pixel = []\n",
    "        self.thresh_max = []\n",
    "        self.thresh_min = []\n",
    "        self.thresh_mean = []\n",
    "            \n",
    "    def forward(self, t_conv, t_max, t):\n",
    "        self.threshold1.expand(t.size(0), self.out_channels, 24, 24)\n",
    "        #m = nn.Sigmoid()\n",
    "        #cond = torch.sub(t_max.cuda(), self.threshold1.cuda()) # THRESHOLD - MAX (broadcasting here)\n",
    "        #t_2_2 = m(cond*50)*t_max # if condition is true - do MAX => THRESHOLD HIGHER\n",
    "        #t_1_1 = m(cond*(-50))*t_conv #  if condition is false - do CONV => THRESHOLD LOWER\n",
    "        \n",
    "        t_1_1 = torch.mul(t_conv, (self.threshold1.cuda()))\n",
    "        t_2_2 = torch.mul(t_max, (1-self.threshold1.cuda()))\n",
    "        \n",
    "        t_out = torch.add(t_1_1, t_2_2) # compute the output\n",
    "        \n",
    "        return t_out"
   ]
  },
  {
   "cell_type": "code",
   "execution_count": 3,
   "metadata": {},
   "outputs": [],
   "source": [
    "class Flex(nn.Module):\n",
    "    def __init__(self):\n",
    "        super().__init__()\n",
    "        self.threshold1 = nn.Parameter(torch.zeros(1))\n",
    "        \n",
    "        self.memorized = self.threshold1.clone()\n",
    "        self.thresh_mean = []\n",
    "            \n",
    "    def forward(self, t_conv, t_max, t):\n",
    "        \n",
    "        m = nn.Sigmoid()\n",
    "        cond = torch.sub(self.threshold1.cuda(), t_max.cuda()) # THRESHOLD - MAX (broadcasting here)\n",
    "        t_2_2 = m(cond*50)*t_max # if condition is true - do MAX => THRESHOLD HIGHER\n",
    "        t_1_1 = m(cond*(-50))*t_conv #  if condition is false - do CONV => THRESHOLD LOWER\n",
    "        \n",
    "        #t_1_1 = torch.mul(F.relu(t_conv), (1-self.threshold1.cuda()))\n",
    "        #t_2_2 = torch.mul(F.relu(t_max), (self.threshold1.cuda()))\n",
    "        \n",
    "        t_out = torch.add(t_1_1, t_2_2) # compute the output\n",
    "        \n",
    "        return t_out"
   ]
  },
  {
   "cell_type": "code",
   "execution_count": 4,
   "metadata": {},
   "outputs": [
    {
     "name": "stdout",
     "output_type": "stream",
     "text": [
      "0.0\n"
     ]
    }
   ],
   "source": [
    "class Net(nn.Module):\n",
    "    def __init__(self):\n",
    "        super().__init__()\n",
    "        self.pool = nn.MaxPool2d(kernel_size=5, stride=1, padding = 0)\n",
    "        self.conv = nn.Conv2d(in_channels=1, out_channels=12, kernel_size=5)\n",
    "        self.flex1 = Flex()\n",
    "\n",
    "        \n",
    "        self.fc1 = nn.Linear(in_features=4*12*12*12, out_features=120)\n",
    "        self.fc2 = nn.Linear(in_features=120, out_features=60)\n",
    "        self.out = nn.Linear(in_features=60, out_features=10) # number of classes\n",
    "\n",
    "    def forward(self, t):\n",
    "        \n",
    "        # (2) Flexible layer\n",
    "        t_conv = self.conv(t)\n",
    "        t_max = self.pool(t)\n",
    "        \n",
    "        t = self.flex1(t_conv.cuda(), t_max.cuda(), t.cuda())\n",
    "        \n",
    "        t = F.relu(t)\n",
    "        \n",
    "        # (4) hidden linear layer\n",
    "        t = F.relu(self.fc1(t.reshape(-1, 4 * 12 * 12 * 12)))\n",
    "        \n",
    "        # (5) hidden linear layer\n",
    "        t = F.relu(self.fc2(t))\n",
    "        \n",
    "        # (6) output layer\n",
    "        t = self.out(t)\n",
    "        \n",
    "        return t\n",
    "\n",
    "net = Net()\n",
    "\n",
    "\n",
    "if torch.cuda.is_available():\n",
    "  net.cuda()\n",
    "\n",
    "memorized = net.flex1.memorized.clone()\n",
    "#before training\n",
    "print(memorized.item())"
   ]
  },
  {
   "cell_type": "code",
   "execution_count": 5,
   "metadata": {},
   "outputs": [],
   "source": [
    "criterion = nn.CrossEntropyLoss()\n",
    "lr = 0.001\n",
    "optimizer_flex = torch.optim.SGD([{'params':[net.flex1.threshold1], 'lr':lr*2}], lr=lr)\n",
    "optimizer = torch.optim.SGD(net.parameters(),lr = 0.001,momentum = 0.9,weight_decay = 0.006)\n",
    "#optimizer = torch.optim.SGD([{'params':[net.flex1.threshold1], 'lr':lr}],lr = 0.001,momentum = 0.9,weight_decay = 0.006)\n",
    "schedule = torch.optim.lr_scheduler.StepLR(optimizer,step_size=20,gamma = 0.7)\n"
   ]
  },
  {
   "cell_type": "code",
   "execution_count": 6,
   "metadata": {},
   "outputs": [],
   "source": [
    "# helper functions\n",
    "\n",
    "# helper function to show an image\n",
    "# (used in the `plot_classes_preds` function below)\n",
    "def matplotlib_imshow(img, one_channel=False):\n",
    "    if one_channel:\n",
    "        img = img.mean(dim=0)\n",
    "    img = img / 2 + 0.5     # unnormalize\n",
    "    npimg = img.numpy()\n",
    "    if one_channel:\n",
    "        plt.imshow(npimg, cmap=\"Greys\")\n",
    "    else:\n",
    "        plt.imshow(np.transpose(npimg, (1, 2, 0)))\n",
    "\n",
    "def images_to_probs(net, images):\n",
    "    '''\n",
    "    Generates predictions and corresponding probabilities from a trained\n",
    "    network and a list of images\n",
    "    '''\n",
    "    output = net(images)\n",
    "    # convert output probabilities to predicted class\n",
    "    _, preds_tensor = torch.max(output, 1)\n",
    "    preds = np.squeeze(preds_tensor.numpy())\n",
    "    return preds, [F.softmax(el, dim=0)[i].item() for i, el in zip(preds, output)]\n",
    "\n",
    "\n",
    "def plot_classes_preds(net, images, labels):\n",
    "    '''\n",
    "    Generates matplotlib Figure using a trained network, along with images\n",
    "    and labels from a batch, that shows the network's top prediction along\n",
    "    with its probability, alongside the actual label, coloring this\n",
    "    information based on whether the prediction was correct or not.\n",
    "    Uses the \"images_to_probs\" function.\n",
    "    '''\n",
    "    preds, probs = images_to_probs(net, images)\n",
    "    # plot the images in the batch, along with predicted and true labels\n",
    "    fig = plt.figure(figsize=(12, 48))\n",
    "    for idx in np.arange(4):\n",
    "        ax = fig.add_subplot(1, 4, idx+1, xticks=[], yticks=[])\n",
    "        matplotlib_imshow(images[idx], one_channel=True)\n",
    "        ax.set_title(\"{0}, {1:.1f}%\\n(label: {2})\".format(\n",
    "            classes[preds[idx]],\n",
    "            probs[idx] * 100.0,\n",
    "            classes[labels[idx]]),\n",
    "                    color=(\"green\" if preds[idx]==labels[idx].item() else \"red\"))\n",
    "    return fig\n",
    "\n",
    "def get_num_correct(preds, labels):\n",
    "    return preds.argmax(dim=1).eq(labels).sum().item()"
   ]
  },
  {
   "cell_type": "code",
   "execution_count": 7,
   "metadata": {},
   "outputs": [
    {
     "data": {
      "image/png": "[encoded data removed]",
      "text/plain": [
       "<Figure size 432x288 with 1 Axes>"
      ]
     },
     "metadata": {
      "needs_background": "light"
     },
     "output_type": "display_data"
    }
   ],
   "source": [
    "# get some random training images\n",
    "dataiter = iter(trainloader)\n",
    "images, labels = dataiter.next()\n",
    "\n",
    "# create grid of images\n",
    "img_grid = torchvision.utils.make_grid(images)\n",
    "\n",
    "# show images\n",
    "matplotlib_imshow(img_grid, one_channel=True)\n",
    "\n",
    "# write to tensorboard\n",
    "#writer.add_image('four_fake_images', img_grid)"
   ]
  },
  {
   "cell_type": "code",
   "execution_count": 8,
   "metadata": {},
   "outputs": [
    {
     "data": {
      "text/plain": [
       "tensor(-0.4265)"
      ]
     },
     "execution_count": 8,
     "metadata": {},
     "output_type": "execute_result"
    }
   ],
   "source": [
    "images.mean()"
   ]
  },
  {
   "cell_type": "code",
   "execution_count": 9,
   "metadata": {},
   "outputs": [
    {
     "data": {
      "text/plain": [
       "<Figure size 432x288 with 0 Axes>"
      ]
     },
     "metadata": {},
     "output_type": "display_data"
    },
    {
     "data": {
      "image/png": "[encoded data removed]",
      "text/plain": [
       "<Figure size 720x720 with 24 Axes>"
      ]
     },
     "metadata": {
      "needs_background": "light"
     },
     "output_type": "display_data"
    }
   ],
   "source": [
    "# plot the flex weights before training\n",
    "\n",
    "fig = plt.figure()\n",
    "plt.figure(figsize=(10,10))\n",
    "plt.suptitle('Flexilayer weights before training', fontsize = 16)\n",
    "for idx, filt  in enumerate(net.conv.cpu().weight.detach().numpy()[:,0,:,:]):\n",
    "    plt.subplot(3,4, idx + 1)\n",
    "    plt.imshow(net.conv.cpu().weight.detach().numpy()[idx,0,:,:], cmap=\"gray\")\n",
    "\n",
    "    plt.colorbar()\n",
    "fig.show()"
   ]
  },
  {
   "cell_type": "code",
   "execution_count": 10,
   "metadata": {},
   "outputs": [
    {
     "name": "stdout",
     "output_type": "stream",
     "text": [
      "epoch: 0 loss: 68043.59836280346 threshold -0.503686785697937\n",
      "Test accuracy: 76 %\n",
      "epoch: 1 loss: 30990.575006604195 threshold -0.7343071699142456\n",
      "Test accuracy: 82 %\n",
      "epoch: 2 loss: 26965.64085930586 threshold -0.8376603126525879\n",
      "Test accuracy: 82 %\n",
      "epoch: 3 loss: 24769.606392085552 threshold -0.8467877507209778\n",
      "Test accuracy: 84 %\n",
      "epoch: 4 loss: 23379.83532398939 threshold -0.8760761618614197\n",
      "Test accuracy: 85 %\n",
      "epoch: 5 loss: 22273.198410868645 threshold -0.8606104850769043\n",
      "Test accuracy: 85 %\n",
      "epoch: 6 loss: 21469.855754077435 threshold -0.8756259083747864\n",
      "Test accuracy: 85 %\n",
      "epoch: 7 loss: 20764.573794603348 threshold -0.8706433176994324\n",
      "Test accuracy: 86 %\n",
      "epoch: 8 loss: 20236.0553920269 threshold -0.8775041699409485\n",
      "Test accuracy: 86 %\n",
      "epoch: 9 loss: 19710.87267100811 threshold -0.8948917388916016\n",
      "Test accuracy: 86 %\n",
      "epoch: 10 loss: 19203.464098274708 threshold -0.8919479846954346\n",
      "Test accuracy: 87 %\n",
      "epoch: 11 loss: 18760.28364300728 threshold -0.877977192401886\n",
      "Test accuracy: 86 %\n",
      "epoch: 12 loss: 18437.2368901968 threshold -0.8713681697845459\n",
      "Test accuracy: 87 %\n",
      "epoch: 13 loss: 18049.050068855286 threshold -0.8739098310470581\n",
      "Test accuracy: 87 %\n",
      "epoch: 14 loss: 17773.08116853237 threshold -0.8959856629371643\n",
      "Test accuracy: 87 %\n",
      "epoch: 15 loss: 17382.736860215664 threshold -0.8772185444831848\n",
      "Test accuracy: 88 %\n",
      "epoch: 16 loss: 16994.437536597252 threshold -0.8663080334663391\n",
      "Test accuracy: 88 %\n",
      "epoch: 17 loss: 16793.05997043848 threshold -0.8706151843070984\n",
      "Test accuracy: 88 %\n",
      "epoch: 18 loss: 16641.546124964952 threshold -0.8811267018318176\n",
      "Test accuracy: 88 %\n",
      "epoch: 19 loss: 16339.888180047274 threshold -0.8791880011558533\n",
      "Test accuracy: 87 %\n",
      "epoch: 20 loss: 16107.63983502984 threshold -0.8739087581634521\n",
      "Test accuracy: 88 %\n",
      "epoch: 21 loss: 15842.275827378035 threshold -0.8797446489334106\n",
      "Test accuracy: 87 %\n",
      "epoch: 22 loss: 15651.454871147871 threshold -0.8752908706665039\n",
      "Test accuracy: 88 %\n",
      "epoch: 23 loss: 15542.081203311682 threshold -0.8832429051399231\n",
      "Test accuracy: 88 %\n",
      "epoch: 24 loss: 15277.480854839087 threshold -0.8697628974914551\n",
      "Test accuracy: 88 %\n",
      "epoch: 25 loss: 15203.981465101242 threshold -0.860902726650238\n",
      "Test accuracy: 88 %\n",
      "epoch: 26 loss: 14890.630949288607 threshold -0.8683204650878906\n",
      "Test accuracy: 89 %\n",
      "epoch: 27 loss: 14842.468429356813 threshold -0.8701076507568359\n",
      "Test accuracy: 88 %\n",
      "epoch: 28 loss: 14681.695899367332 threshold -0.8795261383056641\n",
      "Test accuracy: 89 %\n",
      "epoch: 29 loss: 14528.076625615358 threshold -0.8748075366020203\n",
      "Test accuracy: 89 %\n",
      "Finished Training\n"
     ]
    },
    {
     "data": {
      "text/plain": [
       "<Figure size 864x864 with 0 Axes>"
      ]
     },
     "metadata": {},
     "output_type": "display_data"
    }
   ],
   "source": [
    "# ======================== Function to get the test accuracy ===============================================================================\n",
    "def test():\n",
    "  correct = 0\n",
    "  total = 0\n",
    "  net.train(False)\n",
    "  with torch.no_grad():\n",
    "    for i,(images,labels)in enumerate(testloader):\n",
    "      if torch.cuda.is_available():\n",
    "        images = images.cuda()\n",
    "        labels = labels.cuda()\n",
    "      outputs = net(Variable(images))\n",
    "      labels = Variable(labels)\n",
    "      _,predicted = outputs.max(1)\n",
    "      total += labels.size(0)\n",
    "      correct += (predicted.eq(labels)).sum().item()\n",
    "    print('Test accuracy: %d %%' % (\n",
    "  100 * correct / total))\n",
    "  return 100*(correct/total)\n",
    "\n",
    "reg_lambda=1.0\n",
    "l2_reg = None\n",
    "for name, param in net.named_parameters():\n",
    "        if name ==  \"flex1.threshold1\":\n",
    "            l2_reg = param.norm(2) * 0.1\n",
    "\n",
    "# ======================== Training ===============================================================================\n",
    "            \n",
    "running_loss = 0.0\n",
    "total_loss_plt = []\n",
    "plt.figure(figsize=(12,12))\n",
    "\n",
    "net.cuda()\n",
    "for epoch in range(30):  # loop over the dataset multiple times\n",
    "    \n",
    "    total_loss = 0\n",
    "    total_correct = 0\n",
    "    \n",
    "    nsamples = 1000\n",
    "\n",
    "    for i, data in enumerate(trainloader, 0):\n",
    "        \n",
    "        # get the inputs; data is a list of [inputs, labels]\n",
    "        inputs, labels = data\n",
    "        \n",
    "        preds = net(inputs.cuda()) # Pass batch\n",
    "\n",
    "        # zero the parameter gradients\n",
    "        optimizer.zero_grad()\n",
    "        \n",
    "        for W in net.parameters():\n",
    "            if l2_reg is None:\n",
    "                l2_reg = None\n",
    "            else:\n",
    "                l2_reg = W.norm(2) * 0.5\n",
    "\n",
    "        # forward + backward + optimize\n",
    "        loss = criterion(preds.cuda(), labels.cuda()) + l2_reg * reg_lambda\n",
    "        loss.backward()\n",
    "        optimizer.step()      \n",
    "        \n",
    "        total_loss += loss.item() * batch_size\n",
    "        total_correct += get_num_correct(preds.cuda(), labels.cuda())\n",
    "            \n",
    "        net.flex1.thresh_mean.append(torch.mean(net.flex1.threshold1))\n",
    "            \n",
    "                      \n",
    "                      \n",
    "    total_loss_plt.append(total_loss)\n",
    "    \n",
    "    print(\"epoch:\", epoch, \"loss:\", total_loss, 'threshold', net.flex1.threshold1.item())\n",
    "    \n",
    "    test()\n",
    "        \n",
    "print('Finished Training')"
   ]
  },
  {
   "cell_type": "code",
   "execution_count": 11,
   "metadata": {},
   "outputs": [
    {
     "name": "stdout",
     "output_type": "stream",
     "text": [
      "Test accuracy: 89 %\n",
      "89.21\n",
      "Accuracy of T-shirt/top : 88 %\n",
      "Accuracy of Trouser : 100 %\n",
      "Accuracy of Pullover : 82 %\n",
      "Accuracy of Dress : 100 %\n",
      "Accuracy of  Coat : 90 %\n",
      "Accuracy of Sandal : 92 %\n",
      "Accuracy of Shirt : 51 %\n",
      "Accuracy of Sneaker : 90 %\n",
      "Accuracy of   Bag : 98 %\n",
      "Accuracy of Ankle Boot : 100 %\n"
     ]
    }
   ],
   "source": [
    "#======================================= Testing ===================================================================================================\n",
    "test_acc = test() # Test error\n",
    "print(test_acc)\n",
    "\n",
    "# Per class accuracy\n",
    "class_correct = list(0. for i in range(10)) # Individual class error\n",
    "class_total = list(0. for i in range(10))\n",
    "with torch.no_grad():\n",
    "    for data in testloader:\n",
    "        images, labels = data\n",
    "        if torch.cuda.is_available():\n",
    "          images = images.cuda()\n",
    "          labels = labels.cuda()\n",
    "        images = Variable(images)\n",
    "        labels = Variable(labels)\n",
    "        outputs = net(images)\n",
    "        _, predicted = torch.max(outputs, 1)\n",
    "        c = (predicted == labels).squeeze()\n",
    "        for i in range(4):\n",
    "            label = labels[i]\n",
    "            class_correct[label] += c[i].item()\n",
    "            class_total[label] += 1\n",
    "\n",
    "for i in range(10):\n",
    "    print('Accuracy of %5s : %2d %%' % (\n",
    "        classes[i], 100 * class_correct[i] / class_total[i]))"
   ]
  },
  {
   "cell_type": "code",
   "execution_count": 12,
   "metadata": {},
   "outputs": [
    {
     "data": {
      "image/png": "[encoded data removed]",
      "text/plain": [
       "<Figure size 432x288 with 1 Axes>"
      ]
     },
     "metadata": {
      "needs_background": "light"
     },
     "output_type": "display_data"
    }
   ],
   "source": [
    "plt.plot(total_loss_plt)\n",
    "plt.ylabel('Loss')\n",
    "plt.xlabel('Epochs')\n",
    "plt.show()"
   ]
  },
  {
   "cell_type": "code",
   "execution_count": 13,
   "metadata": {},
   "outputs": [
    {
     "name": "stdout",
     "output_type": "stream",
     "text": [
      "0.0\n"
     ]
    }
   ],
   "source": [
    "#before training\n",
    "print(memorized.detach().numpy().item())"
   ]
  },
  {
   "cell_type": "code",
   "execution_count": 14,
   "metadata": {},
   "outputs": [
    {
     "name": "stdout",
     "output_type": "stream",
     "text": [
      "-0.8748075366020203\n"
     ]
    }
   ],
   "source": [
    "#after training\n",
    "print(net.flex1.threshold1.cpu().detach().numpy().item())"
   ]
  },
  {
   "cell_type": "code",
   "execution_count": 15,
   "metadata": {},
   "outputs": [
    {
     "data": {
      "text/plain": [
       "<Figure size 432x288 with 0 Axes>"
      ]
     },
     "metadata": {},
     "output_type": "display_data"
    },
    {
     "data": {
      "image/png": "[encoded data removed]",
      "text/plain": [
       "<Figure size 720x720 with 12 Axes>"
      ]
     },
     "metadata": {
      "needs_background": "light"
     },
     "output_type": "display_data"
    }
   ],
   "source": [
    "# plot the flex weights after training\n",
    "\n",
    "fig = plt.figure()\n",
    "fig = plt.figure(figsize=(10,10))\n",
    "plt.suptitle('Flexilayer weights after training', fontsize = 16)\n",
    "for idx, filt  in enumerate(net.conv.weight.cpu().detach().numpy()[:,0,:,:]):\n",
    "    im = plt.subplot(3,4, idx + 1)\n",
    "    plt.imshow(net.conv.weight.cpu().detach().numpy()[idx,0,:,:], cmap=\"gray\")\n",
    "#plt.colorbar()\n",
    "\n",
    "    \n",
    "fig.show()"
   ]
  },
  {
   "cell_type": "code",
   "execution_count": 16,
   "metadata": {},
   "outputs": [
    {
     "data": {
      "image/png": "[encoded data removed]",
      "text/plain": [
       "<Figure size 432x288 with 1 Axes>"
      ]
     },
     "metadata": {
      "needs_background": "light"
     },
     "output_type": "display_data"
    }
   ],
   "source": [
    "plt.plot(net.flex1.thresh_mean)\n",
    "plt.ylabel('Threshold mean value')\n",
    "plt.xlabel('Optimiser steps')\n",
    "plt.show()"
   ]
  },
  {
   "cell_type": "markdown",
   "metadata": {},
   "source": [
    "path = \"./models/FMNIST_FlexiLayer-avgpool-nomaxpool_20201803.pt\"\n",
    "torch.save(net.state_dict(), path)"
   ]
  },
  {
   "cell_type": "code",
   "execution_count": 17,
   "metadata": {},
   "outputs": [
    {
     "data": {
      "image/png": "[encoded data removed]",
      "text/plain": [
       "<Figure size 432x288 with 1 Axes>"
      ]
     },
     "metadata": {
      "needs_background": "light"
     },
     "output_type": "display_data"
    },
    {
     "data": {
      "text/plain": [
       "<Figure size 432x288 with 0 Axes>"
      ]
     },
     "metadata": {},
     "output_type": "display_data"
    },
    {
     "data": {
      "image/png": "[encoded data removed]",
      "text/plain": [
       "<Figure size 720x720 with 12 Axes>"
      ]
     },
     "metadata": {
      "needs_background": "light"
     },
     "output_type": "display_data"
    }
   ],
   "source": [
    "def normalize_output(img):\n",
    "    img = img - img.min()\n",
    "    img = img / img.max()\n",
    "    return img\n",
    "\n",
    "# Visualize feature maps\n",
    "activation = {}\n",
    "def get_activation(name):\n",
    "    def hook(model, input, output):\n",
    "        activation[name] = output.detach()\n",
    "    return hook\n",
    "\n",
    "net.conv.cuda().register_forward_hook(get_activation('flex1'))\n",
    "data, _ = testset[0]\n",
    "data.unsqueeze_(0)\n",
    "output = net(data.cuda())\n",
    "fig = plt.figure()\n",
    "matplotlib_imshow(data[0], one_channel=True)\n",
    "\n",
    "act = activation['flex1'].squeeze()\n",
    "#fig, axarr = plt.subplots(act.size(0))\n",
    "fig = plt.figure()\n",
    "fig = plt.figure(figsize=(10,10))\n",
    "for idx in range(act.size(0)):\n",
    "    im = plt.subplot(3,4, idx + 1)\n",
    "    plt.imshow(act.cpu()[idx,:,:], cmap=\"gray\")\n",
    "    #axarr[idx].imshow(act[idx], cmap=\"gray\")"
   ]
  },
  {
   "cell_type": "code",
   "execution_count": 18,
   "metadata": {},
   "outputs": [
    {
     "data": {
      "text/plain": [
       "Net(\n",
       "  (pool): MaxPool2d(kernel_size=5, stride=1, padding=0, dilation=1, ceil_mode=False)\n",
       "  (conv): Conv2d(1, 12, kernel_size=(5, 5), stride=(1, 1))\n",
       "  (flex1): Flex()\n",
       "  (fc1): Linear(in_features=6912, out_features=120, bias=True)\n",
       "  (fc2): Linear(in_features=120, out_features=60, bias=True)\n",
       "  (out): Linear(in_features=60, out_features=10, bias=True)\n",
       ")"
      ]
     },
     "execution_count": 18,
     "metadata": {},
     "output_type": "execute_result"
    }
   ],
   "source": [
    "net"
   ]
  },
  {
   "cell_type": "code",
   "execution_count": 19,
   "metadata": {},
   "outputs": [
    {
     "name": "stdout",
     "output_type": "stream",
     "text": [
      "conv.weight\n",
      "conv.bias\n",
      "flex1.threshold1\n",
      "fc1.weight\n",
      "fc1.bias\n",
      "fc2.weight\n",
      "fc2.bias\n",
      "out.weight\n",
      "out.bias\n"
     ]
    }
   ],
   "source": [
    "for name, param in net.named_parameters():\n",
    "    if param.requires_grad:\n",
    "        print (name)"
   ]
  },
  {
   "cell_type": "code",
   "execution_count": 20,
   "metadata": {},
   "outputs": [
    {
     "name": "stdout",
     "output_type": "stream",
     "text": [
      "conv.weight\n",
      "here\n",
      "conv.bias\n",
      "here\n",
      "flex1.threshold1\n",
      "here\n",
      "fc1.weight\n",
      "here\n",
      "fc1.bias\n",
      "here\n",
      "fc2.weight\n",
      "here\n",
      "fc2.bias\n",
      "here\n",
      "out.weight\n",
      "here\n",
      "out.bias\n"
     ]
    }
   ],
   "source": [
    "l2_reg = None\n",
    "for name, param in net.named_parameters():\n",
    "        if l2_reg is None:\n",
    "            l2_reg = param.norm(2)\n",
    "            print(name)\n",
    "        else:\n",
    "            print('here')\n",
    "            print(name)"
   ]
  },
  {
   "cell_type": "code",
   "execution_count": 21,
   "metadata": {},
   "outputs": [
    {
     "name": "stdout",
     "output_type": "stream",
     "text": [
      "Accuracy of the model w/0 adverserial attack on test images is : 89.21 %\n",
      "Accuracy of the model with adverserial attack on test images is : 47.71 %\n",
      "Number of misclassified examples(as compared to clean predictions): 4216/10000\n",
      "True Label:  Sandal   Predicted Label: Sandal   Adverserial Label: Sneaker\n",
      "True Label:  Ankle Boot   Predicted Label: Ankle Boot   Adverserial Label: Sandal\n"
     ]
    },
    {
     "data": {
      "image/png": "[encoded data removed]",
      "text/plain": [
       "<Figure size 432x288 with 2 Axes>"
      ]
     },
     "metadata": {},
     "output_type": "display_data"
    }
   ],
   "source": [
    "model = net\n",
    "# ===============================================  Attack methods ===============================================================================\n",
    "\n",
    "# FAST GRADIENT SIGN METHOD (FGSM)\n",
    "def FGSM(test_loader,epsilon = 0.1,min_val = -1,max_val = 1):\n",
    "  correct = 0                   # Fast gradient sign method\n",
    "  adv_correct = 0\n",
    "  misclassified = 0\n",
    "  total = 0\n",
    "  adv_noise =0 \n",
    "  adverserial_images = []\n",
    "  y_preds = []\n",
    "  y_preds_adv = []\n",
    "  test_images = []\n",
    "  test_label = []\n",
    "  \n",
    "  for i, (images,labels) in enumerate(test_loader):\n",
    "    if torch.cuda.is_available():\n",
    "      images = images.cuda()\n",
    "      labels = labels.cuda()\n",
    "    images = Variable(images,requires_grad = True)\n",
    "    labels = Variable(labels)\n",
    "    \n",
    "    outputs = model(images)\n",
    "    loss =criterion(outputs,labels)\n",
    "\n",
    "    model.zero_grad()\n",
    "    if images.grad is not None:\n",
    "      images.grad.data.fill_(0)\n",
    "    loss.backward()\n",
    "    \n",
    "    grad = torch.sign(images.grad.data) # Take the sign of the gradient.\n",
    "    images_adv = torch.clamp(images.data + epsilon*grad,min_val,max_val)     # x_adv = x + epsilon*grad\n",
    "    \n",
    "    adv_output = model(Variable(images_adv)) # output by the model after adding adverserial noise\n",
    "    \n",
    "    _,predicted = torch.max(outputs.data,1)      # Prediction on the clean image\n",
    "    _,adv_predicted = torch.max(adv_output.data,1) # Prediction on the image after adding adverserial noise\n",
    "    \n",
    "    total += labels.size(0)\n",
    "    correct += (predicted == labels).sum().item()\n",
    "    adv_correct += (adv_predicted == labels).sum().item()\n",
    "    misclassified += (predicted != adv_predicted).sum().item()\n",
    "    \n",
    "    adverserial_images.extend((images_adv).cpu().data.numpy())\n",
    "    y_preds.extend(predicted.cpu().data.numpy())\n",
    "    y_preds_adv.extend(adv_predicted.cpu().data.numpy())\n",
    "    test_images.extend(images.cpu().data.numpy())\n",
    "    test_label.extend(labels.cpu().data.numpy())\n",
    "    \n",
    "    \n",
    "  np.save('adverserial_images.npy',adverserial_images)    # Save the adverserial labels, images\n",
    "  np.save('y_preds.npy',y_preds)\n",
    "  np.save('y_preds_adv.npy',y_preds_adv)\n",
    "  np.save('test_images.npy',test_images)\n",
    "  np.save('test_label.npy',test_label)\n",
    "  print('Accuracy of the model w/0 adverserial attack on test images is : {} %'.format(100*correct/total))\n",
    "  print('Accuracy of the model with adverserial attack on test images is : {} %'.format(100* adv_correct/total))\n",
    "  print('Number of misclassified examples(as compared to clean predictions): {}/{}'.format(misclassified,total))\n",
    "\n",
    "\n",
    "\n",
    "\n",
    "#  ITERATIVE - FGSM\n",
    "\n",
    "def i_FGSM(test_loader,iterations = 1,epsilon = 0.1,min_val = -1,max_val = 1):\n",
    "  correct = 0                # Iterative fast gradient sign method\n",
    "  adv_correct = 0\n",
    "  misclassified = 0\n",
    "  total = 0 \n",
    "  adverserial_images = []\n",
    "  y_preds = []\n",
    "  y_preds_adv = []\n",
    "  test_images = []\n",
    "  test_label = []\n",
    "  \n",
    "  for i, (images,labels) in enumerate(test_loader):\n",
    "    if torch.cuda.is_available():\n",
    "      images = images.cuda()\n",
    "      labels = labels.cuda()\n",
    "      output_clean = model(Variable(images))\n",
    "    images_adv = Variable(images.data,requires_grad = True)\n",
    "    # Apply the FGSM for T iterations\n",
    "    for j in range(iterations):  \n",
    "      if torch.cuda.is_available():\n",
    "        images_adv = images_adv.cuda()\n",
    "      outputs = model(images_adv)\n",
    "      loss = criterion(outputs,Variable(labels))\n",
    "      \n",
    "      model.zero_grad()\n",
    "      if images_adv.grad is not None:\n",
    "        images.adv.grad.data.fill_(0)\n",
    "      \n",
    "      loss.backward()\n",
    "      grad = torch.sign(images_adv.grad.data)   # Get the sign of the gradient\n",
    "      \n",
    "      images_adv = images_adv + (epsilon/iterations)*grad  # X_n+1 = X_n + (epsilon/T)*grad   T = no. of iterations\n",
    "       # Clip the image \n",
    "      images_adv = torch.where(images_adv > images + epsilon,images+epsilon,images_adv)\n",
    "      images_adv = torch.where(images_adv < images-epsilon,images-epsilon,images_adv)\n",
    "      images_adv = torch.clamp(images_adv,min_val,max_val)\n",
    "      images_adv = Variable(images_adv.data,requires_grad = True)\n",
    "      \n",
    "\n",
    "    adv_output = model(Variable(images_adv))\n",
    "    \n",
    "    _,predicted = torch.max(output_clean.data,1)    # Ouput of the clean image\n",
    "    _,adv_predicted = torch.max(adv_output.data,1) # Output of the image after adding adverserial noise\n",
    "    \n",
    "    total += labels.size(0)\n",
    "    correct += (predicted == labels).sum().item()\n",
    "    adv_correct += (adv_predicted == labels).sum().item()\n",
    "    misclassified += (predicted != adv_predicted).sum().item()\n",
    "    \n",
    "    adverserial_images.extend((images_adv).cpu().data.numpy())\n",
    "    y_preds.extend(predicted.cpu().data.numpy())\n",
    "    y_preds_adv.extend(adv_predicted.cpu().data.numpy())\n",
    "    test_images.extend(images.cpu().data.numpy())\n",
    "    test_label.extend(labels.cpu().data.numpy())\n",
    "    \n",
    "  np.save('adverserial_images.npy',adverserial_images)\n",
    "  np.save('y_preds.npy',y_preds)\n",
    "  np.save('y_preds_adv.npy',y_preds_adv)\n",
    "  np.save('test_images.npy',test_images)\n",
    "  np.save('test_label.npy',test_label)\n",
    "  print('Accuracy of the model w/0 adverserial attack on test images is : {} %'.format(100*correct/total))\n",
    "  print('Accuracy of the model with adverserial attack on test images is : {} %'.format(100* adv_correct/total))\n",
    "  print('Number of misclassified examples(as compared to clean predictions): {}/{}'.format(misclassified,total))\n",
    "\n",
    "\n",
    "# ========================================= Attack the model ============================================================================\n",
    "'''  \n",
    "The image lies between [0,1] but since I have trained the whole network on normalized input, Therefore the min_val = -2.117 and max_val = 2.64 and \n",
    "not {0,1}\n",
    "We unnormalize the images for visualisation.\n",
    "The values of epsilon has been chosen according to the normalized input\n",
    "'''\n",
    "#i_FGSM(testloader,iterations = 15,epsilon = 0.15,min_val = -2.117,max_val = 2.64) \n",
    "FGSM(testloader,epsilon = 0.1,min_val = -2.117,max_val = 2.64)\n",
    "\n",
    "# ============================== Visualisation ===================================================================================================\n",
    "adverserial_images = np.load('adverserial_images.npy')\n",
    "y_preds = np.load('y_preds.npy')\n",
    "y_preds_adv = np.load('y_preds_adv.npy')\n",
    "test_images = np.load('test_images.npy')\n",
    "test_label = np.load('test_label.npy')\n",
    "\n",
    "c = adverserial_images - test_images  # Verify whether the max diff between the image and adverserial image in epsilon or not\n",
    "c.max()\n",
    "\n",
    "mean = np.array([0.485, 0.456, 0.406])\n",
    "mean = mean[:,None,None]\n",
    "std = np.array([0.229, 0.224, 0.225])\n",
    "std = std[:,None,None]\n",
    "\n",
    "# Get index of  all the images where the attack is succesful\n",
    "attack = (y_preds != y_preds_adv)\n",
    "indexes = []\n",
    "for i in range(len(attack)):\n",
    "  if attack[i] == True:\n",
    "    indexes.append(i)\n",
    "\n",
    "indexes = np.array(indexes)\n",
    "\n",
    "\n",
    "# Plot the images \n",
    "plt_idx = 0\n",
    "while plt_idx < 2:\n",
    "    idx = np.random.choice(indexes)\n",
    "    img = test_images[idx]\n",
    "    adv_img = adverserial_images[idx]\n",
    "    img = img*std + mean\n",
    "    img = np.transpose(img,(1,2,0))\n",
    "    img = img.clip(0,1)\n",
    "   \n",
    "    adv_img = adv_img*std + mean\n",
    "    adv_img =np.transpose(adv_img,(1,2,0))\n",
    "    adv_img = adv_img.clip(0,1)\n",
    "    noise = adv_img - img\n",
    "    noise = np.absolute(10*noise)  # Noise is multiplied by 10 for visualisation purpose\n",
    "    noise = noise.clip(0,1)\n",
    "    \n",
    "    if y_preds[idx] != y_preds_adv[idx]:\n",
    "        disp_im = np.concatenate((img, adv_img,noise), axis=1)\n",
    "        ax = plt.subplot(1,2,plt_idx+1)\n",
    "#         ax.set_title(classes[test_label[idx]],classes[y_preds[idx]], classes[y_preds_adv[idx]] )\n",
    "        ax.set_title(\"pred: {}, adv:{}\".format(y_preds[idx], y_preds_adv[idx]))\n",
    "        plt.imshow(disp_im)\n",
    "        plt.xticks([])\n",
    "        plt.yticks([])\n",
    "        plt_idx += 1\n",
    "        print(\"True Label: \",classes[test_label[idx]],\" \",\"Predicted Label:\",classes[y_preds[idx]],\" \", \"Adverserial Label:\",classes[y_preds_adv[idx]])\n",
    "plt.show()"
   ]
  },
  {
   "cell_type": "code",
   "execution_count": null,
   "metadata": {},
   "outputs": [],
   "source": []
  },
  {
   "cell_type": "code",
   "execution_count": null,
   "metadata": {},
   "outputs": [],
   "source": []
  }
 ],
 "metadata": {
  "kernelspec": {
   "display_name": "Python 3",
   "language": "python",
   "name": "python3"
  },
  "language_info": {
   "codemirror_mode": {
    "name": "ipython",
    "version": 3
   },
   "file_extension": ".py",
   "mimetype": "text/x-python",
   "name": "python",
   "nbconvert_exporter": "python",
   "pygments_lexer": "ipython3",
   "version": "3.7.7"
  }
 },
 "nbformat": 4,
 "nbformat_minor": 2
}
