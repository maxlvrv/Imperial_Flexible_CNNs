{
 "cells": [
  {
   "cell_type": "code",
   "execution_count": 4,
   "metadata": {},
   "outputs": [
    {
     "name": "stderr",
     "output_type": "stream",
     "text": [
      "/home/mlavrov/anaconda3/envs/meng/lib/python3.7/site-packages/foolbox/models/pytorch.py:37: UserWarning: The PyTorch model is in training mode and therefore might not be deterministic. Call the eval() method to set it in evaluation mode if this is not intended.\n",
      "  \"The PyTorch model is in training mode and therefore might\"\n"
     ]
    },
    {
     "name": "stdout",
     "output_type": "stream",
     "text": [
      "0.875\n",
      "attack success in specified rotation in translation bounds 68.75  %\n",
      "PyTorchTensor(tensor(0.3125, device='cuda:0'))\n"
     ]
    }
   ],
   "source": [
    "import torchvision.models as models\n",
    "import eagerpy as ep\n",
    "from foolbox import PyTorchModel, accuracy, samples\n",
    "import foolbox.attacks as fa\n",
    "\n",
    "from models.VGG16 import *\n",
    "\n",
    "use_cuda=True\n",
    "device = torch.device(\"cuda\" if (use_cuda and torch.cuda.is_available()) else \"cpu\")\n",
    "\n",
    "if __name__ == \"__main__\":\n",
    "    # instantiate a model\n",
    "    model = VGG16().to(device)\n",
    "    preprocessing = dict(mean=[0.485, 0.456, 0.406], std=[0.229, 0.224, 0.225], axis=-3)\n",
    "    fmodel = PyTorchModel(model, bounds=(-1, 1), preprocessing=preprocessing)\n",
    "    \n",
    "    state = torch.load('./models/model_150_89.pth')\n",
    "    model.load_state_dict(state['model'])    \n",
    "    model.eval()\n",
    "\n",
    "    # get data and test the model\n",
    "    # wrapping the tensors with ep.astensors is optional, but it allows\n",
    "    # us to work with EagerPy tensors in the following\n",
    "    images, labels = ep.astensors(*samples(fmodel, dataset=\"cifar10\", batchsize=16, shape=(32, 32), bounds=(-1, 1)))\n",
    "    print(accuracy(fmodel, images, labels))\n",
    "\n",
    "    # apply the attack\n",
    "    attack = fa.spatial_attack.SpatialAttack(\n",
    "    max_translation=3,  # 6px so x in [x-6, x+6] and y in [y-6, y+6]\n",
    "    num_translations=3,  # number of translations in x, y.\n",
    "    max_rotation=5,  # +- rotation in degrees\n",
    "    num_rotations=2,  # number of rotations\n",
    "    # max total iterations = num_rotations * num_translations**2\n",
    "    )\n",
    "    \n",
    "    xp_, _, success = attack(fmodel, images, labels)\n",
    "    print(\n",
    "        \"attack success in specified rotation in translation bounds\",\n",
    "        success.numpy().astype(np.float32).mean() * 100,\n",
    "        \" %\",\n",
    "    )\n",
    "    \n",
    "    robust_accuracy = 1 - success.float32().mean(axis=-1)\n",
    "    print(robust_accuracy)"
   ]
  },
  {
   "cell_type": "code",
   "execution_count": null,
   "metadata": {},
   "outputs": [],
   "source": []
  }
 ],
 "metadata": {
  "kernelspec": {
   "display_name": "Python 3",
   "language": "python",
   "name": "python3"
  },
  "language_info": {
   "codemirror_mode": {
    "name": "ipython",
    "version": 3
   },
   "file_extension": ".py",
   "mimetype": "text/x-python",
   "name": "python",
   "nbconvert_exporter": "python",
   "pygments_lexer": "ipython3",
   "version": "3.7.6"
  }
 },
 "nbformat": 4,
 "nbformat_minor": 2
}
