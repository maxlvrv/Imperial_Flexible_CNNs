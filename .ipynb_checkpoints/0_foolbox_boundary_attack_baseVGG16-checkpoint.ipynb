{
 "cells": [
  {
   "cell_type": "code",
   "execution_count": null,
   "metadata": {},
   "outputs": [
    {
     "name": "stdout",
     "output_type": "stream",
     "text": [
      "0.8125\n"
     ]
    }
   ],
   "source": [
    "import torchvision.models as models\n",
    "import eagerpy as ep\n",
    "from foolbox import PyTorchModel, accuracy, samples\n",
    "import foolbox.attacks as fa\n",
    "\n",
    "from models.VGG16 import *\n",
    "\n",
    "use_cuda=True\n",
    "device = torch.device(\"cuda\" if (use_cuda and torch.cuda.is_available()) else \"cpu\")\n",
    "\n",
    "if __name__ == \"__main__\":\n",
    "    # instantiate a model\n",
    "    model = VGG16().to(device)\n",
    "        \n",
    "    state = torch.load('./models/model_150_89.pth')\n",
    "    model.load_state_dict(state['model'])    \n",
    "    model.eval()\n",
    "    \n",
    "    preprocessing = dict(mean=[0.485, 0.456, 0.406], std=[0.229, 0.224, 0.225], axis=-3)\n",
    "    fmodel = PyTorchModel(model, bounds=(-1, 1), preprocessing=preprocessing)\n",
    "\n",
    "\n",
    "    # get data and test the model\n",
    "    # wrapping the tensors with ep.astensors is optional, but it allows\n",
    "    # us to work with EagerPy tensors in the following\n",
    "    images, labels = ep.astensors(*samples(fmodel, dataset=\"cifar10\", batchsize=16, shape=(32, 32), bounds=(-1, 1)))\n",
    "    print(accuracy(fmodel, images, labels))\n",
    "\n",
    "    # apply the attack\n",
    "    attack = fa.boundary_attack.BoundaryAttack(\n",
    "    steps=25000,\n",
    "    )\n",
    "    \n",
    "    \n",
    "    \"\"\"\n",
    "    epsilons = [0.0, 0.001]\n",
    "    xp_, _, success = attack(fmodel, images, labels, epsilons=epsilons)\n",
    "    print(\n",
    "        \"Boundary attack success within specified parameters\",\n",
    "        success.numpy().astype(np.float32).mean() * 100,\n",
    "        \" %\",\n",
    "    )\n",
    "    \n",
    "    robust_accuracy = 1 - success.float32().mean(axis=-1)\n",
    "    print(robust_accuracy)\n",
    "    \"\"\"\n",
    "    \n",
    "    epsilons = [0.0, 0.03, 0.1, 0.3]\n",
    "    advs, _, success = attack(fmodel, images, labels, epsilons=epsilons)\n",
    "\n",
    "    # calculate and report the robust accuracy\n",
    "    robust_accuracy = 1 - success.float32().mean(axis=-1)\n",
    "    for eps, acc in zip(epsilons, robust_accuracy):\n",
    "        print(eps, acc.item())"
   ]
  },
  {
   "cell_type": "code",
   "execution_count": null,
   "metadata": {},
   "outputs": [],
   "source": []
  }
 ],
 "metadata": {
  "kernelspec": {
   "display_name": "Python 3",
   "language": "python",
   "name": "python3"
  },
  "language_info": {
   "codemirror_mode": {
    "name": "ipython",
    "version": 3
   },
   "file_extension": ".py",
   "mimetype": "text/x-python",
   "name": "python",
   "nbconvert_exporter": "python",
   "pygments_lexer": "ipython3",
   "version": "3.7.6"
  }
 },
 "nbformat": 4,
 "nbformat_minor": 2
}
